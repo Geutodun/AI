{
  "nbformat": 4,
  "nbformat_minor": 0,
  "metadata": {
    "colab": {
      "name": "Untitled0.ipynb",
      "provenance": [],
      "collapsed_sections": []
    },
    "kernelspec": {
      "name": "python3",
      "display_name": "Python 3"
    },
    "language_info": {
      "name": "python"
    },
    "accelerator": "TPU"
  },
  "cells": [
    {
      "cell_type": "code",
      "metadata": {
        "id": "S3nHux9pHea5"
      },
      "source": [
        "import tensorflow as tf"
      ],
      "execution_count": 1,
      "outputs": []
    },
    {
      "cell_type": "code",
      "metadata": {
        "colab": {
          "base_uri": "https://localhost:8080/",
          "height": 35
        },
        "id": "WUTL460PHyHb",
        "outputId": "362b879e-de5b-47ea-e73a-c47674e1914b"
      },
      "source": [
        "tf.__version__"
      ],
      "execution_count": 2,
      "outputs": [
        {
          "output_type": "execute_result",
          "data": {
            "application/vnd.google.colaboratory.intrinsic+json": {
              "type": "string"
            },
            "text/plain": [
              "'2.5.0'"
            ]
          },
          "metadata": {
            "tags": []
          },
          "execution_count": 2
        }
      ]
    },
    {
      "cell_type": "code",
      "metadata": {
        "id": "xGjBXwpuH5I6"
      },
      "source": [
        "pip install -q seaborn"
      ],
      "execution_count": 3,
      "outputs": []
    },
    {
      "cell_type": "code",
      "metadata": {
        "colab": {
          "base_uri": "https://localhost:8080/"
        },
        "id": "0Wa_hP8b4iJ-",
        "outputId": "3faf22c1-cc17-4118-fbae-1db755373a07"
      },
      "source": [
        "import pathlib\n",
        "\n",
        "import matplotlib.pyplot as plt\n",
        "import pandas as pd\n",
        "import seaborn as sns\n",
        "\n",
        "import tensorflow as tf\n",
        "from tensorflow import keras\n",
        "from tensorflow.keras import layers\n",
        "\n",
        "print(tf.__version__)"
      ],
      "execution_count": 4,
      "outputs": [
        {
          "output_type": "stream",
          "text": [
            "2.5.0\n"
          ],
          "name": "stdout"
        }
      ]
    },
    {
      "cell_type": "code",
      "metadata": {
        "colab": {
          "base_uri": "https://localhost:8080/",
          "height": 71
        },
        "id": "j3qNd2814nhm",
        "outputId": "ab6d3974-3836-4de5-9edc-cdeb2df8b62a"
      },
      "source": [
        "dataset_path = keras.utils.get_file(\"auto-mpg.data\", \"http://archive.ics.uci.edu/ml/machine-learning-databases/auto-mpg/auto-mpg.data\")      #데이터셋 다운\n",
        "dataset_path"
      ],
      "execution_count": 5,
      "outputs": [
        {
          "output_type": "stream",
          "text": [
            "Downloading data from http://archive.ics.uci.edu/ml/machine-learning-databases/auto-mpg/auto-mpg.data\n",
            "32768/30286 [================================] - 0s 2us/step\n"
          ],
          "name": "stdout"
        },
        {
          "output_type": "execute_result",
          "data": {
            "application/vnd.google.colaboratory.intrinsic+json": {
              "type": "string"
            },
            "text/plain": [
              "'/root/.keras/datasets/auto-mpg.data'"
            ]
          },
          "metadata": {
            "tags": []
          },
          "execution_count": 5
        }
      ]
    },
    {
      "cell_type": "code",
      "metadata": {
        "colab": {
          "base_uri": "https://localhost:8080/",
          "height": 204
        },
        "id": "xONafUYg4prh",
        "outputId": "e11a62c7-9416-43ff-e155-526ffaf06618"
      },
      "source": [
        "column_names = ['MPG','Cylinders','Displacement','Horsepower','Weight', \n",
        "                'Acceleration', 'Model Year', 'Origin']\n",
        "raw_dataset = pd.read_csv(dataset_path, names=column_names,  #받아진 데이터(파이썬에서 데이터를 다룰려면 판다스 사용)\n",
        "                      na_values = \"?\", comment='\\t',\n",
        "                      sep=\" \", skipinitialspace=True)\n",
        "\n",
        "dataset = raw_dataset.copy()\n",
        "dataset.tail()    #tail() = 맨 마지막칸 5개 정도 데이터 읽기 [{head()=맨 앞부분 5개} 랑 비슷]"
      ],
      "execution_count": 6,
      "outputs": [
        {
          "output_type": "execute_result",
          "data": {
            "text/html": [
              "<div>\n",
              "<style scoped>\n",
              "    .dataframe tbody tr th:only-of-type {\n",
              "        vertical-align: middle;\n",
              "    }\n",
              "\n",
              "    .dataframe tbody tr th {\n",
              "        vertical-align: top;\n",
              "    }\n",
              "\n",
              "    .dataframe thead th {\n",
              "        text-align: right;\n",
              "    }\n",
              "</style>\n",
              "<table border=\"1\" class=\"dataframe\">\n",
              "  <thead>\n",
              "    <tr style=\"text-align: right;\">\n",
              "      <th></th>\n",
              "      <th>MPG</th>\n",
              "      <th>Cylinders</th>\n",
              "      <th>Displacement</th>\n",
              "      <th>Horsepower</th>\n",
              "      <th>Weight</th>\n",
              "      <th>Acceleration</th>\n",
              "      <th>Model Year</th>\n",
              "      <th>Origin</th>\n",
              "    </tr>\n",
              "  </thead>\n",
              "  <tbody>\n",
              "    <tr>\n",
              "      <th>393</th>\n",
              "      <td>27.0</td>\n",
              "      <td>4</td>\n",
              "      <td>140.0</td>\n",
              "      <td>86.0</td>\n",
              "      <td>2790.0</td>\n",
              "      <td>15.6</td>\n",
              "      <td>82</td>\n",
              "      <td>1</td>\n",
              "    </tr>\n",
              "    <tr>\n",
              "      <th>394</th>\n",
              "      <td>44.0</td>\n",
              "      <td>4</td>\n",
              "      <td>97.0</td>\n",
              "      <td>52.0</td>\n",
              "      <td>2130.0</td>\n",
              "      <td>24.6</td>\n",
              "      <td>82</td>\n",
              "      <td>2</td>\n",
              "    </tr>\n",
              "    <tr>\n",
              "      <th>395</th>\n",
              "      <td>32.0</td>\n",
              "      <td>4</td>\n",
              "      <td>135.0</td>\n",
              "      <td>84.0</td>\n",
              "      <td>2295.0</td>\n",
              "      <td>11.6</td>\n",
              "      <td>82</td>\n",
              "      <td>1</td>\n",
              "    </tr>\n",
              "    <tr>\n",
              "      <th>396</th>\n",
              "      <td>28.0</td>\n",
              "      <td>4</td>\n",
              "      <td>120.0</td>\n",
              "      <td>79.0</td>\n",
              "      <td>2625.0</td>\n",
              "      <td>18.6</td>\n",
              "      <td>82</td>\n",
              "      <td>1</td>\n",
              "    </tr>\n",
              "    <tr>\n",
              "      <th>397</th>\n",
              "      <td>31.0</td>\n",
              "      <td>4</td>\n",
              "      <td>119.0</td>\n",
              "      <td>82.0</td>\n",
              "      <td>2720.0</td>\n",
              "      <td>19.4</td>\n",
              "      <td>82</td>\n",
              "      <td>1</td>\n",
              "    </tr>\n",
              "  </tbody>\n",
              "</table>\n",
              "</div>"
            ],
            "text/plain": [
              "      MPG  Cylinders  Displacement  ...  Acceleration  Model Year  Origin\n",
              "393  27.0          4         140.0  ...          15.6          82       1\n",
              "394  44.0          4          97.0  ...          24.6          82       2\n",
              "395  32.0          4         135.0  ...          11.6          82       1\n",
              "396  28.0          4         120.0  ...          18.6          82       1\n",
              "397  31.0          4         119.0  ...          19.4          82       1\n",
              "\n",
              "[5 rows x 8 columns]"
            ]
          },
          "metadata": {
            "tags": []
          },
          "execution_count": 6
        }
      ]
    },
    {
      "cell_type": "code",
      "metadata": {
        "colab": {
          "base_uri": "https://localhost:8080/"
        },
        "id": "IIFjQSZX6huU",
        "outputId": "3e0ae1ed-d893-4c33-beca-c63485ad5c16"
      },
      "source": [
        "len(dataset) #데이터 사이즈 함수"
      ],
      "execution_count": 7,
      "outputs": [
        {
          "output_type": "execute_result",
          "data": {
            "text/plain": [
              "398"
            ]
          },
          "metadata": {
            "tags": []
          },
          "execution_count": 7
        }
      ]
    },
    {
      "cell_type": "code",
      "metadata": {
        "colab": {
          "base_uri": "https://localhost:8080/"
        },
        "id": "NmOOzOso4sIn",
        "outputId": "33898b9e-8c13-4ed4-c230-9d1a9edaadab"
      },
      "source": [
        "dataset.isna().sum()"
      ],
      "execution_count": 8,
      "outputs": [
        {
          "output_type": "execute_result",
          "data": {
            "text/plain": [
              "MPG             0\n",
              "Cylinders       0\n",
              "Displacement    0\n",
              "Horsepower      6\n",
              "Weight          0\n",
              "Acceleration    0\n",
              "Model Year      0\n",
              "Origin          0\n",
              "dtype: int64"
            ]
          },
          "metadata": {
            "tags": []
          },
          "execution_count": 8
        }
      ]
    },
    {
      "cell_type": "code",
      "metadata": {
        "id": "dAFP-a-G4x4X"
      },
      "source": [
        "dataset = dataset.dropna() #dropna() api호출 -> 쓸모없는 데이터 제거"
      ],
      "execution_count": 9,
      "outputs": []
    },
    {
      "cell_type": "code",
      "metadata": {
        "colab": {
          "base_uri": "https://localhost:8080/"
        },
        "id": "BrtiSM4q7bBJ",
        "outputId": "60272acd-c40e-4e5c-d98e-7af0f03c0635"
      },
      "source": [
        "len(dataset) #데이터 사이즈 함수"
      ],
      "execution_count": 10,
      "outputs": [
        {
          "output_type": "execute_result",
          "data": {
            "text/plain": [
              "392"
            ]
          },
          "metadata": {
            "tags": []
          },
          "execution_count": 10
        }
      ]
    },
    {
      "cell_type": "code",
      "metadata": {
        "colab": {
          "base_uri": "https://localhost:8080/"
        },
        "id": "YIoZrDzY8-qg",
        "outputId": "ef3d7576-a603-4feb-c661-54d3ed43e190"
      },
      "source": [
        "dataset.pop('Origin') #모델 데이터 제거"
      ],
      "execution_count": 11,
      "outputs": [
        {
          "output_type": "execute_result",
          "data": {
            "text/plain": [
              "0      1\n",
              "1      1\n",
              "2      1\n",
              "3      1\n",
              "4      1\n",
              "      ..\n",
              "393    1\n",
              "394    2\n",
              "395    1\n",
              "396    1\n",
              "397    1\n",
              "Name: Origin, Length: 392, dtype: int64"
            ]
          },
          "metadata": {
            "tags": []
          },
          "execution_count": 11
        }
      ]
    },
    {
      "cell_type": "code",
      "metadata": {
        "colab": {
          "base_uri": "https://localhost:8080/",
          "height": 419
        },
        "id": "hJwjuCM_8uFB",
        "outputId": "1377ceae-c889-4198-80d6-2ad22f719aff"
      },
      "source": [
        "dataset"
      ],
      "execution_count": 12,
      "outputs": [
        {
          "output_type": "execute_result",
          "data": {
            "text/html": [
              "<div>\n",
              "<style scoped>\n",
              "    .dataframe tbody tr th:only-of-type {\n",
              "        vertical-align: middle;\n",
              "    }\n",
              "\n",
              "    .dataframe tbody tr th {\n",
              "        vertical-align: top;\n",
              "    }\n",
              "\n",
              "    .dataframe thead th {\n",
              "        text-align: right;\n",
              "    }\n",
              "</style>\n",
              "<table border=\"1\" class=\"dataframe\">\n",
              "  <thead>\n",
              "    <tr style=\"text-align: right;\">\n",
              "      <th></th>\n",
              "      <th>MPG</th>\n",
              "      <th>Cylinders</th>\n",
              "      <th>Displacement</th>\n",
              "      <th>Horsepower</th>\n",
              "      <th>Weight</th>\n",
              "      <th>Acceleration</th>\n",
              "      <th>Model Year</th>\n",
              "    </tr>\n",
              "  </thead>\n",
              "  <tbody>\n",
              "    <tr>\n",
              "      <th>0</th>\n",
              "      <td>18.0</td>\n",
              "      <td>8</td>\n",
              "      <td>307.0</td>\n",
              "      <td>130.0</td>\n",
              "      <td>3504.0</td>\n",
              "      <td>12.0</td>\n",
              "      <td>70</td>\n",
              "    </tr>\n",
              "    <tr>\n",
              "      <th>1</th>\n",
              "      <td>15.0</td>\n",
              "      <td>8</td>\n",
              "      <td>350.0</td>\n",
              "      <td>165.0</td>\n",
              "      <td>3693.0</td>\n",
              "      <td>11.5</td>\n",
              "      <td>70</td>\n",
              "    </tr>\n",
              "    <tr>\n",
              "      <th>2</th>\n",
              "      <td>18.0</td>\n",
              "      <td>8</td>\n",
              "      <td>318.0</td>\n",
              "      <td>150.0</td>\n",
              "      <td>3436.0</td>\n",
              "      <td>11.0</td>\n",
              "      <td>70</td>\n",
              "    </tr>\n",
              "    <tr>\n",
              "      <th>3</th>\n",
              "      <td>16.0</td>\n",
              "      <td>8</td>\n",
              "      <td>304.0</td>\n",
              "      <td>150.0</td>\n",
              "      <td>3433.0</td>\n",
              "      <td>12.0</td>\n",
              "      <td>70</td>\n",
              "    </tr>\n",
              "    <tr>\n",
              "      <th>4</th>\n",
              "      <td>17.0</td>\n",
              "      <td>8</td>\n",
              "      <td>302.0</td>\n",
              "      <td>140.0</td>\n",
              "      <td>3449.0</td>\n",
              "      <td>10.5</td>\n",
              "      <td>70</td>\n",
              "    </tr>\n",
              "    <tr>\n",
              "      <th>...</th>\n",
              "      <td>...</td>\n",
              "      <td>...</td>\n",
              "      <td>...</td>\n",
              "      <td>...</td>\n",
              "      <td>...</td>\n",
              "      <td>...</td>\n",
              "      <td>...</td>\n",
              "    </tr>\n",
              "    <tr>\n",
              "      <th>393</th>\n",
              "      <td>27.0</td>\n",
              "      <td>4</td>\n",
              "      <td>140.0</td>\n",
              "      <td>86.0</td>\n",
              "      <td>2790.0</td>\n",
              "      <td>15.6</td>\n",
              "      <td>82</td>\n",
              "    </tr>\n",
              "    <tr>\n",
              "      <th>394</th>\n",
              "      <td>44.0</td>\n",
              "      <td>4</td>\n",
              "      <td>97.0</td>\n",
              "      <td>52.0</td>\n",
              "      <td>2130.0</td>\n",
              "      <td>24.6</td>\n",
              "      <td>82</td>\n",
              "    </tr>\n",
              "    <tr>\n",
              "      <th>395</th>\n",
              "      <td>32.0</td>\n",
              "      <td>4</td>\n",
              "      <td>135.0</td>\n",
              "      <td>84.0</td>\n",
              "      <td>2295.0</td>\n",
              "      <td>11.6</td>\n",
              "      <td>82</td>\n",
              "    </tr>\n",
              "    <tr>\n",
              "      <th>396</th>\n",
              "      <td>28.0</td>\n",
              "      <td>4</td>\n",
              "      <td>120.0</td>\n",
              "      <td>79.0</td>\n",
              "      <td>2625.0</td>\n",
              "      <td>18.6</td>\n",
              "      <td>82</td>\n",
              "    </tr>\n",
              "    <tr>\n",
              "      <th>397</th>\n",
              "      <td>31.0</td>\n",
              "      <td>4</td>\n",
              "      <td>119.0</td>\n",
              "      <td>82.0</td>\n",
              "      <td>2720.0</td>\n",
              "      <td>19.4</td>\n",
              "      <td>82</td>\n",
              "    </tr>\n",
              "  </tbody>\n",
              "</table>\n",
              "<p>392 rows × 7 columns</p>\n",
              "</div>"
            ],
            "text/plain": [
              "      MPG  Cylinders  Displacement  ...  Weight  Acceleration  Model Year\n",
              "0    18.0          8         307.0  ...  3504.0          12.0          70\n",
              "1    15.0          8         350.0  ...  3693.0          11.5          70\n",
              "2    18.0          8         318.0  ...  3436.0          11.0          70\n",
              "3    16.0          8         304.0  ...  3433.0          12.0          70\n",
              "4    17.0          8         302.0  ...  3449.0          10.5          70\n",
              "..    ...        ...           ...  ...     ...           ...         ...\n",
              "393  27.0          4         140.0  ...  2790.0          15.6          82\n",
              "394  44.0          4          97.0  ...  2130.0          24.6          82\n",
              "395  32.0          4         135.0  ...  2295.0          11.6          82\n",
              "396  28.0          4         120.0  ...  2625.0          18.6          82\n",
              "397  31.0          4         119.0  ...  2720.0          19.4          82\n",
              "\n",
              "[392 rows x 7 columns]"
            ]
          },
          "metadata": {
            "tags": []
          },
          "execution_count": 12
        }
      ]
    },
    {
      "cell_type": "code",
      "metadata": {
        "id": "AXvcUQTW45pV"
      },
      "source": [
        "train_dataset = dataset.sample(frac=0.8,random_state=0)   #트레이닝, 테스트 셋 나누기\n",
        "test_dataset = dataset.drop(train_dataset.index)"
      ],
      "execution_count": 13,
      "outputs": []
    },
    {
      "cell_type": "code",
      "metadata": {
        "colab": {
          "base_uri": "https://localhost:8080/"
        },
        "id": "MpO0RE-y47FV",
        "outputId": "ca72e98e-c0c4-431c-d4c5-414c8ffc42ba"
      },
      "source": [
        "len(train_dataset), len(test_dataset)"
      ],
      "execution_count": 14,
      "outputs": [
        {
          "output_type": "execute_result",
          "data": {
            "text/plain": [
              "(314, 78)"
            ]
          },
          "metadata": {
            "tags": []
          },
          "execution_count": 14
        }
      ]
    },
    {
      "cell_type": "code",
      "metadata": {
        "colab": {
          "base_uri": "https://localhost:8080/",
          "height": 235
        },
        "id": "Le-DMqkt487M",
        "outputId": "10251f20-4717-48f9-de3d-5aa99e3e6b01"
      },
      "source": [
        "train_stats = train_dataset.describe()  #describe()함수 : 평균값과 표준편차를 구할 수 있음\n",
        "train_stats.pop(\"MPG\")\n",
        "train_stats = train_stats.transpose()\n",
        "train_stats"
      ],
      "execution_count": 15,
      "outputs": [
        {
          "output_type": "execute_result",
          "data": {
            "text/html": [
              "<div>\n",
              "<style scoped>\n",
              "    .dataframe tbody tr th:only-of-type {\n",
              "        vertical-align: middle;\n",
              "    }\n",
              "\n",
              "    .dataframe tbody tr th {\n",
              "        vertical-align: top;\n",
              "    }\n",
              "\n",
              "    .dataframe thead th {\n",
              "        text-align: right;\n",
              "    }\n",
              "</style>\n",
              "<table border=\"1\" class=\"dataframe\">\n",
              "  <thead>\n",
              "    <tr style=\"text-align: right;\">\n",
              "      <th></th>\n",
              "      <th>count</th>\n",
              "      <th>mean</th>\n",
              "      <th>std</th>\n",
              "      <th>min</th>\n",
              "      <th>25%</th>\n",
              "      <th>50%</th>\n",
              "      <th>75%</th>\n",
              "      <th>max</th>\n",
              "    </tr>\n",
              "  </thead>\n",
              "  <tbody>\n",
              "    <tr>\n",
              "      <th>Cylinders</th>\n",
              "      <td>314.0</td>\n",
              "      <td>5.477707</td>\n",
              "      <td>1.699788</td>\n",
              "      <td>3.0</td>\n",
              "      <td>4.00</td>\n",
              "      <td>4.0</td>\n",
              "      <td>8.00</td>\n",
              "      <td>8.0</td>\n",
              "    </tr>\n",
              "    <tr>\n",
              "      <th>Displacement</th>\n",
              "      <td>314.0</td>\n",
              "      <td>195.318471</td>\n",
              "      <td>104.331589</td>\n",
              "      <td>68.0</td>\n",
              "      <td>105.50</td>\n",
              "      <td>151.0</td>\n",
              "      <td>265.75</td>\n",
              "      <td>455.0</td>\n",
              "    </tr>\n",
              "    <tr>\n",
              "      <th>Horsepower</th>\n",
              "      <td>314.0</td>\n",
              "      <td>104.869427</td>\n",
              "      <td>38.096214</td>\n",
              "      <td>46.0</td>\n",
              "      <td>76.25</td>\n",
              "      <td>94.5</td>\n",
              "      <td>128.00</td>\n",
              "      <td>225.0</td>\n",
              "    </tr>\n",
              "    <tr>\n",
              "      <th>Weight</th>\n",
              "      <td>314.0</td>\n",
              "      <td>2990.251592</td>\n",
              "      <td>843.898596</td>\n",
              "      <td>1649.0</td>\n",
              "      <td>2256.50</td>\n",
              "      <td>2822.5</td>\n",
              "      <td>3608.00</td>\n",
              "      <td>5140.0</td>\n",
              "    </tr>\n",
              "    <tr>\n",
              "      <th>Acceleration</th>\n",
              "      <td>314.0</td>\n",
              "      <td>15.559236</td>\n",
              "      <td>2.789230</td>\n",
              "      <td>8.0</td>\n",
              "      <td>13.80</td>\n",
              "      <td>15.5</td>\n",
              "      <td>17.20</td>\n",
              "      <td>24.8</td>\n",
              "    </tr>\n",
              "    <tr>\n",
              "      <th>Model Year</th>\n",
              "      <td>314.0</td>\n",
              "      <td>75.898089</td>\n",
              "      <td>3.675642</td>\n",
              "      <td>70.0</td>\n",
              "      <td>73.00</td>\n",
              "      <td>76.0</td>\n",
              "      <td>79.00</td>\n",
              "      <td>82.0</td>\n",
              "    </tr>\n",
              "  </tbody>\n",
              "</table>\n",
              "</div>"
            ],
            "text/plain": [
              "              count         mean         std  ...     50%      75%     max\n",
              "Cylinders     314.0     5.477707    1.699788  ...     4.0     8.00     8.0\n",
              "Displacement  314.0   195.318471  104.331589  ...   151.0   265.75   455.0\n",
              "Horsepower    314.0   104.869427   38.096214  ...    94.5   128.00   225.0\n",
              "Weight        314.0  2990.251592  843.898596  ...  2822.5  3608.00  5140.0\n",
              "Acceleration  314.0    15.559236    2.789230  ...    15.5    17.20    24.8\n",
              "Model Year    314.0    75.898089    3.675642  ...    76.0    79.00    82.0\n",
              "\n",
              "[6 rows x 8 columns]"
            ]
          },
          "metadata": {
            "tags": []
          },
          "execution_count": 15
        }
      ]
    },
    {
      "cell_type": "code",
      "metadata": {
        "id": "zl_lsLmU4_Yw"
      },
      "source": [
        "train_labels = train_dataset.pop('MPG') #정규화에서 빼기\n",
        "test_labels = test_dataset.pop('MPG')"
      ],
      "execution_count": 16,
      "outputs": []
    },
    {
      "cell_type": "code",
      "metadata": {
        "id": "YgIfEXAu5AwX"
      },
      "source": [
        "def norm(x):         #데이터 정규화\n",
        "  return (x - train_stats['mean']) / train_stats['std']\n",
        "normed_train_data = norm(train_dataset)\n",
        "normed_test_data = norm(test_dataset)"
      ],
      "execution_count": 17,
      "outputs": []
    },
    {
      "cell_type": "code",
      "metadata": {
        "colab": {
          "base_uri": "https://localhost:8080/",
          "height": 204
        },
        "id": "U3acXQzNBvmK",
        "outputId": "cb1bd393-ed4a-4dc0-c313-8eaa04950996"
      },
      "source": [
        "normed_train_data.head() #정규분포를 따르게 정규화가 됨"
      ],
      "execution_count": 18,
      "outputs": [
        {
          "output_type": "execute_result",
          "data": {
            "text/html": [
              "<div>\n",
              "<style scoped>\n",
              "    .dataframe tbody tr th:only-of-type {\n",
              "        vertical-align: middle;\n",
              "    }\n",
              "\n",
              "    .dataframe tbody tr th {\n",
              "        vertical-align: top;\n",
              "    }\n",
              "\n",
              "    .dataframe thead th {\n",
              "        text-align: right;\n",
              "    }\n",
              "</style>\n",
              "<table border=\"1\" class=\"dataframe\">\n",
              "  <thead>\n",
              "    <tr style=\"text-align: right;\">\n",
              "      <th></th>\n",
              "      <th>Cylinders</th>\n",
              "      <th>Displacement</th>\n",
              "      <th>Horsepower</th>\n",
              "      <th>Weight</th>\n",
              "      <th>Acceleration</th>\n",
              "      <th>Model Year</th>\n",
              "    </tr>\n",
              "  </thead>\n",
              "  <tbody>\n",
              "    <tr>\n",
              "      <th>146</th>\n",
              "      <td>-0.869348</td>\n",
              "      <td>-1.009459</td>\n",
              "      <td>-0.784052</td>\n",
              "      <td>-1.025303</td>\n",
              "      <td>-0.379759</td>\n",
              "      <td>-0.516397</td>\n",
              "    </tr>\n",
              "    <tr>\n",
              "      <th>282</th>\n",
              "      <td>-0.869348</td>\n",
              "      <td>-0.530218</td>\n",
              "      <td>-0.442811</td>\n",
              "      <td>-0.118796</td>\n",
              "      <td>0.624102</td>\n",
              "      <td>0.843910</td>\n",
              "    </tr>\n",
              "    <tr>\n",
              "      <th>69</th>\n",
              "      <td>1.483887</td>\n",
              "      <td>1.482595</td>\n",
              "      <td>1.447140</td>\n",
              "      <td>1.736877</td>\n",
              "      <td>-0.738281</td>\n",
              "      <td>-1.060519</td>\n",
              "    </tr>\n",
              "    <tr>\n",
              "      <th>378</th>\n",
              "      <td>-0.869348</td>\n",
              "      <td>-0.865687</td>\n",
              "      <td>-1.099044</td>\n",
              "      <td>-1.025303</td>\n",
              "      <td>-0.308055</td>\n",
              "      <td>1.660094</td>\n",
              "    </tr>\n",
              "    <tr>\n",
              "      <th>331</th>\n",
              "      <td>-0.869348</td>\n",
              "      <td>-0.942365</td>\n",
              "      <td>-0.994047</td>\n",
              "      <td>-1.001603</td>\n",
              "      <td>0.875068</td>\n",
              "      <td>1.115971</td>\n",
              "    </tr>\n",
              "  </tbody>\n",
              "</table>\n",
              "</div>"
            ],
            "text/plain": [
              "     Cylinders  Displacement  Horsepower    Weight  Acceleration  Model Year\n",
              "146  -0.869348     -1.009459   -0.784052 -1.025303     -0.379759   -0.516397\n",
              "282  -0.869348     -0.530218   -0.442811 -0.118796      0.624102    0.843910\n",
              "69    1.483887      1.482595    1.447140  1.736877     -0.738281   -1.060519\n",
              "378  -0.869348     -0.865687   -1.099044 -1.025303     -0.308055    1.660094\n",
              "331  -0.869348     -0.942365   -0.994047 -1.001603      0.875068    1.115971"
            ]
          },
          "metadata": {
            "tags": []
          },
          "execution_count": 18
        }
      ]
    },
    {
      "cell_type": "code",
      "metadata": {
        "colab": {
          "base_uri": "https://localhost:8080/"
        },
        "id": "2yFDg4whROfI",
        "outputId": "86068e5b-df25-421a-de2b-9915ae30323c"
      },
      "source": [
        "train_dataset.shape  #모델 만들기"
      ],
      "execution_count": 19,
      "outputs": [
        {
          "output_type": "execute_result",
          "data": {
            "text/plain": [
              "(314, 6)"
            ]
          },
          "metadata": {
            "tags": []
          },
          "execution_count": 19
        }
      ]
    },
    {
      "cell_type": "code",
      "metadata": {
        "colab": {
          "base_uri": "https://localhost:8080/"
        },
        "id": "ahcffBZaTMYc",
        "outputId": "9010de75-61a6-4f68-c74e-1c41819b195b"
      },
      "source": [
        "normed_train_data.shape  #(314줄[가변적], 6개 칼럼[중요])"
      ],
      "execution_count": 20,
      "outputs": [
        {
          "output_type": "execute_result",
          "data": {
            "text/plain": [
              "(314, 6)"
            ]
          },
          "metadata": {
            "tags": []
          },
          "execution_count": 20
        }
      ]
    },
    {
      "cell_type": "code",
      "metadata": {
        "id": "EGPMWTE95B_1"
      },
      "source": [
        "inputs = keras.Input(shape=(normed_train_data.shape[1],))   \n",
        "h = layers.Dense(64)(inputs)  #행렬 만들기           h = layers.Dense(64, activation='relu')(inputs)  ==  h = layers.Activation('relu')(h)\n",
        "h = layers.Activation('relu')(h)   #룰루로 만들어보기\n",
        "h = layers.Dense(32)(h)  #행렬 추가\n",
        "outputs = layers.Dense(1)(h)"
      ],
      "execution_count": 21,
      "outputs": []
    },
    {
      "cell_type": "code",
      "metadata": {
        "id": "7QpRZ5wrTW9B"
      },
      "source": [
        "model = keras.Model(inputs=inputs, outputs=outputs)"
      ],
      "execution_count": 22,
      "outputs": []
    },
    {
      "cell_type": "code",
      "metadata": {
        "id": "7xShc-xT5FzM"
      },
      "source": [
        "model.compile(loss='mse',          \n",
        "              optimizer=tf.keras.optimizers.RMSprop(0.001))\n",
        "#y = w*x + b\n",
        "#optimizer = 오차 줄이기 위해 값 변경 정하는 함수"
      ],
      "execution_count": 23,
      "outputs": []
    },
    {
      "cell_type": "code",
      "metadata": {
        "colab": {
          "base_uri": "https://localhost:8080/"
        },
        "id": "htE60cDE5H4T",
        "outputId": "7c4cb849-bddd-4408-bdd4-2e00a83e3eca"
      },
      "source": [
        "model.summary()  #모델 시각화(모델 확인)"
      ],
      "execution_count": 24,
      "outputs": [
        {
          "output_type": "stream",
          "text": [
            "Model: \"model\"\n",
            "_________________________________________________________________\n",
            "Layer (type)                 Output Shape              Param #   \n",
            "=================================================================\n",
            "input_1 (InputLayer)         [(None, 6)]               0         \n",
            "_________________________________________________________________\n",
            "dense (Dense)                (None, 64)                448       \n",
            "_________________________________________________________________\n",
            "activation (Activation)      (None, 64)                0         \n",
            "_________________________________________________________________\n",
            "dense_1 (Dense)              (None, 32)                2080      \n",
            "_________________________________________________________________\n",
            "dense_2 (Dense)              (None, 1)                 33        \n",
            "=================================================================\n",
            "Total params: 2,561\n",
            "Trainable params: 2,561\n",
            "Non-trainable params: 0\n",
            "_________________________________________________________________\n"
          ],
          "name": "stdout"
        }
      ]
    },
    {
      "cell_type": "code",
      "metadata": {
        "colab": {
          "base_uri": "https://localhost:8080/",
          "height": 533
        },
        "id": "IrpMZIeaUe0Q",
        "outputId": "1011fbce-fec4-48c5-f808-28f5637d7456"
      },
      "source": [
        "keras.utils.plot_model(model, \"my_first_model_with_shape_info.png\", show_shapes=True) #레이어의 인풋 아웃풋 표현"
      ],
      "execution_count": 25,
      "outputs": [
        {
          "output_type": "execute_result",
          "data": {
            "image/png": "[encoded data removed]",
            "text/plain": [
              "<IPython.core.display.Image object>"
            ]
          },
          "metadata": {
            "tags": []
          },
          "execution_count": 25
        }
      ]
    },
    {
      "cell_type": "code",
      "metadata": {
        "colab": {
          "base_uri": "https://localhost:8080/",
          "height": 204
        },
        "id": "gPTyuPKkV__j",
        "outputId": "9641ebfb-e559-41d3-93e4-7af4eb33dd8a"
      },
      "source": [
        "normed_train_data[:5] #특정한 것만 가져오기"
      ],
      "execution_count": 26,
      "outputs": [
        {
          "output_type": "execute_result",
          "data": {
            "text/html": [
              "<div>\n",
              "<style scoped>\n",
              "    .dataframe tbody tr th:only-of-type {\n",
              "        vertical-align: middle;\n",
              "    }\n",
              "\n",
              "    .dataframe tbody tr th {\n",
              "        vertical-align: top;\n",
              "    }\n",
              "\n",
              "    .dataframe thead th {\n",
              "        text-align: right;\n",
              "    }\n",
              "</style>\n",
              "<table border=\"1\" class=\"dataframe\">\n",
              "  <thead>\n",
              "    <tr style=\"text-align: right;\">\n",
              "      <th></th>\n",
              "      <th>Cylinders</th>\n",
              "      <th>Displacement</th>\n",
              "      <th>Horsepower</th>\n",
              "      <th>Weight</th>\n",
              "      <th>Acceleration</th>\n",
              "      <th>Model Year</th>\n",
              "    </tr>\n",
              "  </thead>\n",
              "  <tbody>\n",
              "    <tr>\n",
              "      <th>146</th>\n",
              "      <td>-0.869348</td>\n",
              "      <td>-1.009459</td>\n",
              "      <td>-0.784052</td>\n",
              "      <td>-1.025303</td>\n",
              "      <td>-0.379759</td>\n",
              "      <td>-0.516397</td>\n",
              "    </tr>\n",
              "    <tr>\n",
              "      <th>282</th>\n",
              "      <td>-0.869348</td>\n",
              "      <td>-0.530218</td>\n",
              "      <td>-0.442811</td>\n",
              "      <td>-0.118796</td>\n",
              "      <td>0.624102</td>\n",
              "      <td>0.843910</td>\n",
              "    </tr>\n",
              "    <tr>\n",
              "      <th>69</th>\n",
              "      <td>1.483887</td>\n",
              "      <td>1.482595</td>\n",
              "      <td>1.447140</td>\n",
              "      <td>1.736877</td>\n",
              "      <td>-0.738281</td>\n",
              "      <td>-1.060519</td>\n",
              "    </tr>\n",
              "    <tr>\n",
              "      <th>378</th>\n",
              "      <td>-0.869348</td>\n",
              "      <td>-0.865687</td>\n",
              "      <td>-1.099044</td>\n",
              "      <td>-1.025303</td>\n",
              "      <td>-0.308055</td>\n",
              "      <td>1.660094</td>\n",
              "    </tr>\n",
              "    <tr>\n",
              "      <th>331</th>\n",
              "      <td>-0.869348</td>\n",
              "      <td>-0.942365</td>\n",
              "      <td>-0.994047</td>\n",
              "      <td>-1.001603</td>\n",
              "      <td>0.875068</td>\n",
              "      <td>1.115971</td>\n",
              "    </tr>\n",
              "  </tbody>\n",
              "</table>\n",
              "</div>"
            ],
            "text/plain": [
              "     Cylinders  Displacement  Horsepower    Weight  Acceleration  Model Year\n",
              "146  -0.869348     -1.009459   -0.784052 -1.025303     -0.379759   -0.516397\n",
              "282  -0.869348     -0.530218   -0.442811 -0.118796      0.624102    0.843910\n",
              "69    1.483887      1.482595    1.447140  1.736877     -0.738281   -1.060519\n",
              "378  -0.869348     -0.865687   -1.099044 -1.025303     -0.308055    1.660094\n",
              "331  -0.869348     -0.942365   -0.994047 -1.001603      0.875068    1.115971"
            ]
          },
          "metadata": {
            "tags": []
          },
          "execution_count": 26
        }
      ]
    },
    {
      "cell_type": "code",
      "metadata": {
        "colab": {
          "base_uri": "https://localhost:8080/"
        },
        "id": "yYDhAcIrWNBm",
        "outputId": "d14ad880-f3e6-4761-af4f-39e046173ccf"
      },
      "source": [
        "normed_train_data[:5].shape"
      ],
      "execution_count": 27,
      "outputs": [
        {
          "output_type": "execute_result",
          "data": {
            "text/plain": [
              "(5, 6)"
            ]
          },
          "metadata": {
            "tags": []
          },
          "execution_count": 27
        }
      ]
    },
    {
      "cell_type": "code",
      "metadata": {
        "colab": {
          "base_uri": "https://localhost:8080/"
        },
        "id": "wQFNDIvY5KFr",
        "outputId": "fd625b29-e2ba-4240-ab79-474214150121"
      },
      "source": [
        "example_batch = normed_train_data[:5]\n",
        "example_result = model.predict(example_batch)   #predict함수 = 예측 하기\n",
        "example_result"
      ],
      "execution_count": 28,
      "outputs": [
        {
          "output_type": "execute_result",
          "data": {
            "text/plain": [
              "array([[-0.0506994 ],\n",
              "       [ 0.19136351],\n",
              "       [-0.1038996 ],\n",
              "       [ 0.03758347],\n",
              "       [ 0.1820426 ]], dtype=float32)"
            ]
          },
          "metadata": {
            "tags": []
          },
          "execution_count": 28
        }
      ]
    },
    {
      "cell_type": "code",
      "metadata": {
        "colab": {
          "base_uri": "https://localhost:8080/"
        },
        "id": "Ss7VcFai5Lyt",
        "outputId": "64342f48-bc70-46ed-a970-ee3e1ac7defe"
      },
      "source": [
        "EPOCHS = 100  #학습을 몇번 반복할지 정하기 [무조건 필요]\n",
        "\n",
        "#fit함수 = 학습시키기\n",
        "history = model.fit(      \n",
        "  normed_train_data, train_labels,       #인풋 데이터(x), 아웃풋 데이터(y) [무조건 있어야 됨]\n",
        "  epochs=EPOCHS, validation_split = 0.2)   #validation_split = 과적합을 막기 위한 데이터"
      ],
      "execution_count": 29,
      "outputs": [
        {
          "output_type": "stream",
          "text": [
            "Epoch 1/100\n",
            "8/8 [==============================] - 1s 26ms/step - loss: 560.8195 - val_loss: 546.6509\n",
            "Epoch 2/100\n",
            "8/8 [==============================] - 0s 4ms/step - loss: 505.4665 - val_loss: 492.1084\n",
            "Epoch 3/100\n",
            "8/8 [==============================] - 0s 4ms/step - loss: 453.5946 - val_loss: 434.9762\n",
            "Epoch 4/100\n",
            "8/8 [==============================] - 0s 4ms/step - loss: 399.0470 - val_loss: 376.1272\n",
            "Epoch 5/100\n",
            "8/8 [==============================] - 0s 4ms/step - loss: 343.2736 - val_loss: 316.3932\n",
            "Epoch 6/100\n",
            "8/8 [==============================] - 0s 5ms/step - loss: 286.0998 - val_loss: 257.1772\n",
            "Epoch 7/100\n",
            "8/8 [==============================] - 0s 5ms/step - loss: 231.0854 - val_loss: 201.0269\n",
            "Epoch 8/100\n",
            "8/8 [==============================] - 0s 4ms/step - loss: 179.6300 - val_loss: 150.3962\n",
            "Epoch 9/100\n",
            "8/8 [==============================] - 0s 4ms/step - loss: 133.7143 - val_loss: 106.8978\n",
            "Epoch 10/100\n",
            "8/8 [==============================] - 0s 4ms/step - loss: 95.6507 - val_loss: 73.5215\n",
            "Epoch 11/100\n",
            "8/8 [==============================] - 0s 4ms/step - loss: 67.4667 - val_loss: 52.3292\n",
            "Epoch 12/100\n",
            "8/8 [==============================] - 0s 5ms/step - loss: 49.6658 - val_loss: 41.6902\n",
            "Epoch 13/100\n",
            "8/8 [==============================] - 0s 4ms/step - loss: 40.6425 - val_loss: 36.9997\n",
            "Epoch 14/100\n",
            "8/8 [==============================] - 0s 4ms/step - loss: 36.3510 - val_loss: 34.4041\n",
            "Epoch 15/100\n",
            "8/8 [==============================] - 0s 4ms/step - loss: 33.3529 - val_loss: 31.6940\n",
            "Epoch 16/100\n",
            "8/8 [==============================] - 0s 5ms/step - loss: 30.5480 - val_loss: 28.5880\n",
            "Epoch 17/100\n",
            "8/8 [==============================] - 0s 4ms/step - loss: 27.7291 - val_loss: 26.8132\n",
            "Epoch 18/100\n",
            "8/8 [==============================] - 0s 5ms/step - loss: 25.1162 - val_loss: 24.3170\n",
            "Epoch 19/100\n",
            "8/8 [==============================] - 0s 5ms/step - loss: 22.9819 - val_loss: 21.9654\n",
            "Epoch 20/100\n",
            "8/8 [==============================] - 0s 5ms/step - loss: 20.6240 - val_loss: 19.1980\n",
            "Epoch 21/100\n",
            "8/8 [==============================] - 0s 4ms/step - loss: 19.2910 - val_loss: 18.2318\n",
            "Epoch 22/100\n",
            "8/8 [==============================] - 0s 4ms/step - loss: 17.4372 - val_loss: 17.2976\n",
            "Epoch 23/100\n",
            "8/8 [==============================] - 0s 5ms/step - loss: 16.2672 - val_loss: 17.5492\n",
            "Epoch 24/100\n",
            "8/8 [==============================] - 0s 4ms/step - loss: 15.4646 - val_loss: 15.0149\n",
            "Epoch 25/100\n",
            "8/8 [==============================] - 0s 4ms/step - loss: 14.5578 - val_loss: 14.0681\n",
            "Epoch 26/100\n",
            "8/8 [==============================] - 0s 4ms/step - loss: 13.7717 - val_loss: 13.4858\n",
            "Epoch 27/100\n",
            "8/8 [==============================] - 0s 5ms/step - loss: 13.2053 - val_loss: 12.7661\n",
            "Epoch 28/100\n",
            "8/8 [==============================] - 0s 4ms/step - loss: 12.5339 - val_loss: 12.8595\n",
            "Epoch 29/100\n",
            "8/8 [==============================] - 0s 4ms/step - loss: 12.2200 - val_loss: 12.1748\n",
            "Epoch 30/100\n",
            "8/8 [==============================] - 0s 4ms/step - loss: 11.7184 - val_loss: 11.9284\n",
            "Epoch 31/100\n",
            "8/8 [==============================] - 0s 4ms/step - loss: 11.2898 - val_loss: 12.2728\n",
            "Epoch 32/100\n",
            "8/8 [==============================] - 0s 5ms/step - loss: 10.9455 - val_loss: 11.3354\n",
            "Epoch 33/100\n",
            "8/8 [==============================] - 0s 5ms/step - loss: 10.6819 - val_loss: 11.2566\n",
            "Epoch 34/100\n",
            "8/8 [==============================] - 0s 4ms/step - loss: 10.3964 - val_loss: 11.0113\n",
            "Epoch 35/100\n",
            "8/8 [==============================] - 0s 4ms/step - loss: 10.4068 - val_loss: 10.9249\n",
            "Epoch 36/100\n",
            "8/8 [==============================] - 0s 4ms/step - loss: 9.9752 - val_loss: 10.7420\n",
            "Epoch 37/100\n",
            "8/8 [==============================] - 0s 5ms/step - loss: 9.9841 - val_loss: 10.7427\n",
            "Epoch 38/100\n",
            "8/8 [==============================] - 0s 5ms/step - loss: 9.7244 - val_loss: 10.3829\n",
            "Epoch 39/100\n",
            "8/8 [==============================] - 0s 5ms/step - loss: 9.3966 - val_loss: 10.3036\n",
            "Epoch 40/100\n",
            "8/8 [==============================] - 0s 5ms/step - loss: 9.2696 - val_loss: 10.2168\n",
            "Epoch 41/100\n",
            "8/8 [==============================] - 0s 4ms/step - loss: 9.1684 - val_loss: 10.1234\n",
            "Epoch 42/100\n",
            "8/8 [==============================] - 0s 5ms/step - loss: 9.1528 - val_loss: 10.0704\n",
            "Epoch 43/100\n",
            "8/8 [==============================] - 0s 5ms/step - loss: 9.0308 - val_loss: 10.0546\n",
            "Epoch 44/100\n",
            "8/8 [==============================] - 0s 4ms/step - loss: 8.8004 - val_loss: 9.9965\n",
            "Epoch 45/100\n",
            "8/8 [==============================] - 0s 6ms/step - loss: 8.7710 - val_loss: 9.9308\n",
            "Epoch 46/100\n",
            "8/8 [==============================] - 0s 4ms/step - loss: 8.8219 - val_loss: 10.0662\n",
            "Epoch 47/100\n",
            "8/8 [==============================] - 0s 5ms/step - loss: 8.5352 - val_loss: 9.7465\n",
            "Epoch 48/100\n",
            "8/8 [==============================] - 0s 4ms/step - loss: 8.4616 - val_loss: 9.8432\n",
            "Epoch 49/100\n",
            "8/8 [==============================] - 0s 5ms/step - loss: 8.3928 - val_loss: 10.0164\n",
            "Epoch 50/100\n",
            "8/8 [==============================] - 0s 5ms/step - loss: 8.3880 - val_loss: 9.8870\n",
            "Epoch 51/100\n",
            "8/8 [==============================] - 0s 5ms/step - loss: 8.2176 - val_loss: 9.7871\n",
            "Epoch 52/100\n",
            "8/8 [==============================] - 0s 5ms/step - loss: 8.1341 - val_loss: 9.6261\n",
            "Epoch 53/100\n",
            "8/8 [==============================] - 0s 5ms/step - loss: 8.1728 - val_loss: 9.6946\n",
            "Epoch 54/100\n",
            "8/8 [==============================] - 0s 4ms/step - loss: 8.0720 - val_loss: 10.0548\n",
            "Epoch 55/100\n",
            "8/8 [==============================] - 0s 4ms/step - loss: 8.1304 - val_loss: 9.5205\n",
            "Epoch 56/100\n",
            "8/8 [==============================] - 0s 4ms/step - loss: 7.9418 - val_loss: 9.6009\n",
            "Epoch 57/100\n",
            "8/8 [==============================] - 0s 5ms/step - loss: 7.9252 - val_loss: 9.5952\n",
            "Epoch 58/100\n",
            "8/8 [==============================] - 0s 4ms/step - loss: 7.8915 - val_loss: 9.3492\n",
            "Epoch 59/100\n",
            "8/8 [==============================] - 0s 8ms/step - loss: 7.8431 - val_loss: 9.3694\n",
            "Epoch 60/100\n",
            "8/8 [==============================] - 0s 4ms/step - loss: 7.6203 - val_loss: 9.5358\n",
            "Epoch 61/100\n",
            "8/8 [==============================] - 0s 5ms/step - loss: 7.7239 - val_loss: 9.2443\n",
            "Epoch 62/100\n",
            "8/8 [==============================] - 0s 5ms/step - loss: 7.6137 - val_loss: 9.1877\n",
            "Epoch 63/100\n",
            "8/8 [==============================] - 0s 4ms/step - loss: 7.7106 - val_loss: 9.2170\n",
            "Epoch 64/100\n",
            "8/8 [==============================] - 0s 4ms/step - loss: 7.4578 - val_loss: 9.1013\n",
            "Epoch 65/100\n",
            "8/8 [==============================] - 0s 4ms/step - loss: 7.5443 - val_loss: 8.9135\n",
            "Epoch 66/100\n",
            "8/8 [==============================] - 0s 4ms/step - loss: 7.4230 - val_loss: 9.0726\n",
            "Epoch 67/100\n",
            "8/8 [==============================] - 0s 5ms/step - loss: 7.4419 - val_loss: 9.2415\n",
            "Epoch 68/100\n",
            "8/8 [==============================] - 0s 4ms/step - loss: 7.6713 - val_loss: 8.8936\n",
            "Epoch 69/100\n",
            "8/8 [==============================] - 0s 4ms/step - loss: 7.3328 - val_loss: 8.9194\n",
            "Epoch 70/100\n",
            "8/8 [==============================] - 0s 5ms/step - loss: 7.5147 - val_loss: 8.9639\n",
            "Epoch 71/100\n",
            "8/8 [==============================] - 0s 4ms/step - loss: 7.3086 - val_loss: 8.9235\n",
            "Epoch 72/100\n",
            "8/8 [==============================] - 0s 4ms/step - loss: 7.3840 - val_loss: 8.8914\n",
            "Epoch 73/100\n",
            "8/8 [==============================] - 0s 5ms/step - loss: 7.3059 - val_loss: 8.9003\n",
            "Epoch 74/100\n",
            "8/8 [==============================] - 0s 4ms/step - loss: 7.3917 - val_loss: 8.8822\n",
            "Epoch 75/100\n",
            "8/8 [==============================] - 0s 4ms/step - loss: 7.3650 - val_loss: 8.9849\n",
            "Epoch 76/100\n",
            "8/8 [==============================] - 0s 5ms/step - loss: 7.1423 - val_loss: 8.9569\n",
            "Epoch 77/100\n",
            "8/8 [==============================] - 0s 4ms/step - loss: 7.2035 - val_loss: 9.1009\n",
            "Epoch 78/100\n",
            "8/8 [==============================] - 0s 5ms/step - loss: 7.2881 - val_loss: 8.9678\n",
            "Epoch 79/100\n",
            "8/8 [==============================] - 0s 4ms/step - loss: 7.0776 - val_loss: 8.9653\n",
            "Epoch 80/100\n",
            "8/8 [==============================] - 0s 4ms/step - loss: 7.0441 - val_loss: 9.0977\n",
            "Epoch 81/100\n",
            "8/8 [==============================] - 0s 4ms/step - loss: 7.1534 - val_loss: 9.0779\n",
            "Epoch 82/100\n",
            "8/8 [==============================] - 0s 5ms/step - loss: 7.4282 - val_loss: 8.8863\n",
            "Epoch 83/100\n",
            "8/8 [==============================] - 0s 4ms/step - loss: 7.0415 - val_loss: 9.0893\n",
            "Epoch 84/100\n",
            "8/8 [==============================] - 0s 7ms/step - loss: 7.0279 - val_loss: 9.0725\n",
            "Epoch 85/100\n",
            "8/8 [==============================] - 0s 5ms/step - loss: 6.9966 - val_loss: 8.9613\n",
            "Epoch 86/100\n",
            "8/8 [==============================] - 0s 4ms/step - loss: 7.0357 - val_loss: 9.1333\n",
            "Epoch 87/100\n",
            "8/8 [==============================] - 0s 5ms/step - loss: 6.9413 - val_loss: 9.0093\n",
            "Epoch 88/100\n",
            "8/8 [==============================] - 0s 5ms/step - loss: 7.0634 - val_loss: 8.9144\n",
            "Epoch 89/100\n",
            "8/8 [==============================] - 0s 5ms/step - loss: 6.8944 - val_loss: 8.8407\n",
            "Epoch 90/100\n",
            "8/8 [==============================] - 0s 5ms/step - loss: 6.9407 - val_loss: 8.7733\n",
            "Epoch 91/100\n",
            "8/8 [==============================] - 0s 5ms/step - loss: 6.9466 - val_loss: 8.7122\n",
            "Epoch 92/100\n",
            "8/8 [==============================] - 0s 4ms/step - loss: 7.1195 - val_loss: 8.7188\n",
            "Epoch 93/100\n",
            "8/8 [==============================] - 0s 5ms/step - loss: 6.9221 - val_loss: 8.7184\n",
            "Epoch 94/100\n",
            "8/8 [==============================] - 0s 4ms/step - loss: 7.1518 - val_loss: 8.7673\n",
            "Epoch 95/100\n",
            "8/8 [==============================] - 0s 4ms/step - loss: 7.0772 - val_loss: 8.8437\n",
            "Epoch 96/100\n",
            "8/8 [==============================] - 0s 4ms/step - loss: 6.8368 - val_loss: 9.0448\n",
            "Epoch 97/100\n",
            "8/8 [==============================] - 0s 4ms/step - loss: 6.8582 - val_loss: 8.9289\n",
            "Epoch 98/100\n",
            "8/8 [==============================] - 0s 4ms/step - loss: 7.0269 - val_loss: 8.8015\n",
            "Epoch 99/100\n",
            "8/8 [==============================] - 0s 4ms/step - loss: 7.1011 - val_loss: 8.8750\n",
            "Epoch 100/100\n",
            "8/8 [==============================] - 0s 4ms/step - loss: 6.7801 - val_loss: 9.0270\n"
          ],
          "name": "stdout"
        }
      ]
    },
    {
      "cell_type": "code",
      "metadata": {
        "colab": {
          "base_uri": "https://localhost:8080/"
        },
        "id": "jbVWlqHyaMom",
        "outputId": "05bf4e6b-42c6-4714-8f14-dd4dc5f0594a"
      },
      "source": [
        "# patience 매개변수는 성능 향상을 체크할 에포크 횟수입니다\n",
        "early_stop = keras.callbacks.EarlyStopping(monitor='val_loss', patience=10) #val_loss 10번 연속 줄어들지 않으면 학습 멈춤\n",
        "\n",
        "model.fit(normed_train_data, train_labels, epochs=EPOCHS,\n",
        "                    validation_split = 0.2, callbacks=[early_stop])"
      ],
      "execution_count": 30,
      "outputs": [
        {
          "output_type": "stream",
          "text": [
            "Epoch 1/100\n",
            "8/8 [==============================] - 0s 10ms/step - loss: 6.7031 - val_loss: 8.7874\n",
            "Epoch 2/100\n",
            "8/8 [==============================] - 0s 4ms/step - loss: 6.7585 - val_loss: 8.8736\n",
            "Epoch 3/100\n",
            "8/8 [==============================] - 0s 4ms/step - loss: 7.0533 - val_loss: 8.6822\n",
            "Epoch 4/100\n",
            "8/8 [==============================] - 0s 4ms/step - loss: 6.8225 - val_loss: 8.9427\n",
            "Epoch 5/100\n",
            "8/8 [==============================] - 0s 4ms/step - loss: 6.7512 - val_loss: 9.0127\n",
            "Epoch 6/100\n",
            "8/8 [==============================] - 0s 4ms/step - loss: 7.1142 - val_loss: 8.7586\n",
            "Epoch 7/100\n",
            "8/8 [==============================] - 0s 4ms/step - loss: 6.7778 - val_loss: 9.0078\n",
            "Epoch 8/100\n",
            "8/8 [==============================] - 0s 5ms/step - loss: 7.0147 - val_loss: 8.8811\n",
            "Epoch 9/100\n",
            "8/8 [==============================] - 0s 5ms/step - loss: 6.8329 - val_loss: 8.9262\n",
            "Epoch 10/100\n",
            "8/8 [==============================] - 0s 5ms/step - loss: 6.7062 - val_loss: 8.8896\n",
            "Epoch 11/100\n",
            "8/8 [==============================] - 0s 4ms/step - loss: 6.7588 - val_loss: 8.8243\n",
            "Epoch 12/100\n",
            "8/8 [==============================] - 0s 5ms/step - loss: 6.7178 - val_loss: 9.0937\n",
            "Epoch 13/100\n",
            "8/8 [==============================] - 0s 5ms/step - loss: 6.7407 - val_loss: 8.9072\n"
          ],
          "name": "stdout"
        },
        {
          "output_type": "execute_result",
          "data": {
            "text/plain": [
              "<tensorflow.python.keras.callbacks.History at 0x7f0e97946990>"
            ]
          },
          "metadata": {
            "tags": []
          },
          "execution_count": 30
        }
      ]
    },
    {
      "cell_type": "code",
      "metadata": {
        "colab": {
          "base_uri": "https://localhost:8080/"
        },
        "id": "ic3DYL3waveW",
        "outputId": "87c7926e-598c-4803-bc54-7329b1c7a056"
      },
      "source": [
        "loss = model.evaluate(normed_test_data, test_labels, verbose=2) #evaluate함수 = 평가(오차 구하기)\n",
        "\n",
        "print(\"테스트 세트의 평균 절대 오차: {:5.2f} MPG\".format(loss))"
      ],
      "execution_count": 32,
      "outputs": [
        {
          "output_type": "stream",
          "text": [
            "3/3 - 0s - loss: 6.9100\n",
            "테스트 세트의 평균 절대 오차:  6.91 MPG\n"
          ],
          "name": "stdout"
        }
      ]
    },
    {
      "cell_type": "code",
      "metadata": {
        "colab": {
          "base_uri": "https://localhost:8080/",
          "height": 279
        },
        "id": "RWvPMxZQ5iLN",
        "outputId": "66ddf5f9-a24a-460f-ffe6-6d0a8869f184"
      },
      "source": [
        "test_predictions = model.predict(normed_test_data).flatten() #예측\n",
        "\n",
        "plt.scatter(test_labels, test_predictions) #그래프로 그리기 \n",
        "plt.xlabel('True Values [MPG]')\n",
        "plt.ylabel('Predictions [MPG]')\n",
        "plt.axis('equal')\n",
        "plt.axis('square')\n",
        "plt.xlim([0,plt.xlim()[1]])\n",
        "plt.ylim([0,plt.ylim()[1]])\n",
        "_ = plt.plot([-100, 100], [-100, 100])"
      ],
      "execution_count": 33,
      "outputs": [
        {
          "output_type": "display_data",
          "data": {
            "image/png": "[encoded data removed]",
            "text/plain": [
              "<Figure size 432x288 with 1 Axes>"
            ]
          },
          "metadata": {
            "tags": [],
            "needs_background": "light"
          }
        }
      ]
    },
    {
      "cell_type": "code",
      "metadata": {
        "colab": {
          "base_uri": "https://localhost:8080/",
          "height": 279
        },
        "id": "skVNU6Wt5j4z",
        "outputId": "ee5b0123-8b90-4a3c-8337-16b45eccd4be"
      },
      "source": [
        "error = test_predictions - test_labels #오차분포를 시각적으로 표현\n",
        "plt.hist(error, bins = 25)\n",
        "plt.xlabel(\"Prediction Error [MPG]\")\n",
        "_ = plt.ylabel(\"Count\")"
      ],
      "execution_count": 34,
      "outputs": [
        {
          "output_type": "display_data",
          "data": {
            "image/png": "[encoded data removed]",
            "text/plain": [
              "<Figure size 432x288 with 1 Axes>"
            ]
          },
          "metadata": {
            "tags": [],
            "needs_background": "light"
          }
        }
      ]
    },
    {
      "cell_type": "code",
      "metadata": {
        "id": "gimSTlvG5la2"
      },
      "source": [
        ""
      ],
      "execution_count": null,
      "outputs": []
    }
  ]
}