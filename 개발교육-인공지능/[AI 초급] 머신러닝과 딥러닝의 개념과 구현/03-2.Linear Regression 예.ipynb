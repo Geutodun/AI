{
  "nbformat": 4,
  "nbformat_minor": 0,
  "metadata": {
    "colab": {
      "name": "Untitled0.ipynb",
      "provenance": [],
      "collapsed_sections": []
    },
    "kernelspec": {
      "name": "python3",
      "display_name": "Python 3"
    },
    "language_info": {
      "name": "python"
    },
    "accelerator": "TPU"
  },
  "cells": [
    {
      "cell_type": "code",
      "metadata": {
        "id": "S3nHux9pHea5"
      },
      "source": [
        "import tensorflow as tf"
      ],
      "execution_count": 79,
      "outputs": []
    },
    {
      "cell_type": "code",
      "metadata": {
        "colab": {
          "base_uri": "https://localhost:8080/",
          "height": 35
        },
        "id": "WUTL460PHyHb",
        "outputId": "2a89cbd1-6fe2-4f93-830f-5fee2a5f1183"
      },
      "source": [
        "tf.__version__"
      ],
      "execution_count": 80,
      "outputs": [
        {
          "output_type": "execute_result",
          "data": {
            "application/vnd.google.colaboratory.intrinsic+json": {
              "type": "string"
            },
            "text/plain": [
              "'2.5.0'"
            ]
          },
          "metadata": {
            "tags": []
          },
          "execution_count": 80
        }
      ]
    },
    {
      "cell_type": "code",
      "metadata": {
        "id": "xGjBXwpuH5I6"
      },
      "source": [
        "pip install -q seaborn"
      ],
      "execution_count": 81,
      "outputs": []
    },
    {
      "cell_type": "code",
      "metadata": {
        "colab": {
          "base_uri": "https://localhost:8080/"
        },
        "id": "0Wa_hP8b4iJ-",
        "outputId": "bfc5e29e-8b7b-4984-8f12-9bf7ad54b9bd"
      },
      "source": [
        "import pathlib\n",
        "\n",
        "import matplotlib.pyplot as plt\n",
        "import pandas as pd\n",
        "import seaborn as sns\n",
        "\n",
        "import tensorflow as tf\n",
        "from tensorflow import keras\n",
        "from tensorflow.keras import layers\n",
        "\n",
        "print(tf.__version__)"
      ],
      "execution_count": 82,
      "outputs": [
        {
          "output_type": "stream",
          "text": [
            "2.5.0\n"
          ],
          "name": "stdout"
        }
      ]
    },
    {
      "cell_type": "code",
      "metadata": {
        "colab": {
          "base_uri": "https://localhost:8080/",
          "height": 35
        },
        "id": "j3qNd2814nhm",
        "outputId": "e493f17f-ff57-45d2-ac44-88e17fa6fd35"
      },
      "source": [
        "dataset_path = keras.utils.get_file(\"auto-mpg.data\", \"http://archive.ics.uci.edu/ml/machine-learning-databases/auto-mpg/auto-mpg.data\")      #데이터셋 다운\n",
        "dataset_path"
      ],
      "execution_count": 83,
      "outputs": [
        {
          "output_type": "execute_result",
          "data": {
            "application/vnd.google.colaboratory.intrinsic+json": {
              "type": "string"
            },
            "text/plain": [
              "'/root/.keras/datasets/auto-mpg.data'"
            ]
          },
          "metadata": {
            "tags": []
          },
          "execution_count": 83
        }
      ]
    },
    {
      "cell_type": "code",
      "metadata": {
        "colab": {
          "base_uri": "https://localhost:8080/",
          "height": 204
        },
        "id": "xONafUYg4prh",
        "outputId": "5eac1897-cde3-41fa-b7f5-8f726535533a"
      },
      "source": [
        "column_names = ['MPG','Cylinders','Displacement','Horsepower','Weight', \n",
        "                'Acceleration', 'Model Year', 'Origin']\n",
        "raw_dataset = pd.read_csv(dataset_path, names=column_names,  #받아진 데이터(파이썬에서 데이터를 다룰려면 판다스 사용)\n",
        "                      na_values = \"?\", comment='\\t',\n",
        "                      sep=\" \", skipinitialspace=True)\n",
        "\n",
        "dataset = raw_dataset.copy()\n",
        "dataset.tail()    #tail() = 맨 마지막칸 5개 정도 데이터 읽기 [{head()=맨 앞부분 5개} 랑 비슷]"
      ],
      "execution_count": 84,
      "outputs": [
        {
          "output_type": "execute_result",
          "data": {
            "text/html": [
              "<div>\n",
              "<style scoped>\n",
              "    .dataframe tbody tr th:only-of-type {\n",
              "        vertical-align: middle;\n",
              "    }\n",
              "\n",
              "    .dataframe tbody tr th {\n",
              "        vertical-align: top;\n",
              "    }\n",
              "\n",
              "    .dataframe thead th {\n",
              "        text-align: right;\n",
              "    }\n",
              "</style>\n",
              "<table border=\"1\" class=\"dataframe\">\n",
              "  <thead>\n",
              "    <tr style=\"text-align: right;\">\n",
              "      <th></th>\n",
              "      <th>MPG</th>\n",
              "      <th>Cylinders</th>\n",
              "      <th>Displacement</th>\n",
              "      <th>Horsepower</th>\n",
              "      <th>Weight</th>\n",
              "      <th>Acceleration</th>\n",
              "      <th>Model Year</th>\n",
              "      <th>Origin</th>\n",
              "    </tr>\n",
              "  </thead>\n",
              "  <tbody>\n",
              "    <tr>\n",
              "      <th>393</th>\n",
              "      <td>27.0</td>\n",
              "      <td>4</td>\n",
              "      <td>140.0</td>\n",
              "      <td>86.0</td>\n",
              "      <td>2790.0</td>\n",
              "      <td>15.6</td>\n",
              "      <td>82</td>\n",
              "      <td>1</td>\n",
              "    </tr>\n",
              "    <tr>\n",
              "      <th>394</th>\n",
              "      <td>44.0</td>\n",
              "      <td>4</td>\n",
              "      <td>97.0</td>\n",
              "      <td>52.0</td>\n",
              "      <td>2130.0</td>\n",
              "      <td>24.6</td>\n",
              "      <td>82</td>\n",
              "      <td>2</td>\n",
              "    </tr>\n",
              "    <tr>\n",
              "      <th>395</th>\n",
              "      <td>32.0</td>\n",
              "      <td>4</td>\n",
              "      <td>135.0</td>\n",
              "      <td>84.0</td>\n",
              "      <td>2295.0</td>\n",
              "      <td>11.6</td>\n",
              "      <td>82</td>\n",
              "      <td>1</td>\n",
              "    </tr>\n",
              "    <tr>\n",
              "      <th>396</th>\n",
              "      <td>28.0</td>\n",
              "      <td>4</td>\n",
              "      <td>120.0</td>\n",
              "      <td>79.0</td>\n",
              "      <td>2625.0</td>\n",
              "      <td>18.6</td>\n",
              "      <td>82</td>\n",
              "      <td>1</td>\n",
              "    </tr>\n",
              "    <tr>\n",
              "      <th>397</th>\n",
              "      <td>31.0</td>\n",
              "      <td>4</td>\n",
              "      <td>119.0</td>\n",
              "      <td>82.0</td>\n",
              "      <td>2720.0</td>\n",
              "      <td>19.4</td>\n",
              "      <td>82</td>\n",
              "      <td>1</td>\n",
              "    </tr>\n",
              "  </tbody>\n",
              "</table>\n",
              "</div>"
            ],
            "text/plain": [
              "      MPG  Cylinders  Displacement  ...  Acceleration  Model Year  Origin\n",
              "393  27.0          4         140.0  ...          15.6          82       1\n",
              "394  44.0          4          97.0  ...          24.6          82       2\n",
              "395  32.0          4         135.0  ...          11.6          82       1\n",
              "396  28.0          4         120.0  ...          18.6          82       1\n",
              "397  31.0          4         119.0  ...          19.4          82       1\n",
              "\n",
              "[5 rows x 8 columns]"
            ]
          },
          "metadata": {
            "tags": []
          },
          "execution_count": 84
        }
      ]
    },
    {
      "cell_type": "code",
      "metadata": {
        "colab": {
          "base_uri": "https://localhost:8080/"
        },
        "id": "IIFjQSZX6huU",
        "outputId": "ca29bfbe-61f7-446f-cb30-49995e6ad5d3"
      },
      "source": [
        "len(dataset) #데이터 사이즈 함수"
      ],
      "execution_count": 85,
      "outputs": [
        {
          "output_type": "execute_result",
          "data": {
            "text/plain": [
              "398"
            ]
          },
          "metadata": {
            "tags": []
          },
          "execution_count": 85
        }
      ]
    },
    {
      "cell_type": "code",
      "metadata": {
        "colab": {
          "base_uri": "https://localhost:8080/"
        },
        "id": "NmOOzOso4sIn",
        "outputId": "21adfda5-db25-4c9a-eee9-61d41c8ccfb9"
      },
      "source": [
        "dataset.isna().sum()"
      ],
      "execution_count": 86,
      "outputs": [
        {
          "output_type": "execute_result",
          "data": {
            "text/plain": [
              "MPG             0\n",
              "Cylinders       0\n",
              "Displacement    0\n",
              "Horsepower      6\n",
              "Weight          0\n",
              "Acceleration    0\n",
              "Model Year      0\n",
              "Origin          0\n",
              "dtype: int64"
            ]
          },
          "metadata": {
            "tags": []
          },
          "execution_count": 86
        }
      ]
    },
    {
      "cell_type": "code",
      "metadata": {
        "id": "dAFP-a-G4x4X"
      },
      "source": [
        "dataset = dataset.dropna() #dropna() api호출 -> 쓸모없는 데이터 제거"
      ],
      "execution_count": 87,
      "outputs": []
    },
    {
      "cell_type": "code",
      "metadata": {
        "colab": {
          "base_uri": "https://localhost:8080/"
        },
        "id": "BrtiSM4q7bBJ",
        "outputId": "bbf21be0-0de9-40a7-8f34-380c65714dc2"
      },
      "source": [
        "len(dataset) #데이터 사이즈 함수"
      ],
      "execution_count": 88,
      "outputs": [
        {
          "output_type": "execute_result",
          "data": {
            "text/plain": [
              "392"
            ]
          },
          "metadata": {
            "tags": []
          },
          "execution_count": 88
        }
      ]
    },
    {
      "cell_type": "code",
      "metadata": {
        "colab": {
          "base_uri": "https://localhost:8080/"
        },
        "id": "YIoZrDzY8-qg",
        "outputId": "a1ef2cda-6b21-4d40-c215-71debc2d1357"
      },
      "source": [
        "dataset.pop('Origin') #모델 데이터 제거"
      ],
      "execution_count": 89,
      "outputs": [
        {
          "output_type": "execute_result",
          "data": {
            "text/plain": [
              "0      1\n",
              "1      1\n",
              "2      1\n",
              "3      1\n",
              "4      1\n",
              "      ..\n",
              "393    1\n",
              "394    2\n",
              "395    1\n",
              "396    1\n",
              "397    1\n",
              "Name: Origin, Length: 392, dtype: int64"
            ]
          },
          "metadata": {
            "tags": []
          },
          "execution_count": 89
        }
      ]
    },
    {
      "cell_type": "code",
      "metadata": {
        "colab": {
          "base_uri": "https://localhost:8080/",
          "height": 419
        },
        "id": "hJwjuCM_8uFB",
        "outputId": "26dab646-b275-468f-f10f-d4760f459f1f"
      },
      "source": [
        "dataset"
      ],
      "execution_count": 90,
      "outputs": [
        {
          "output_type": "execute_result",
          "data": {
            "text/html": [
              "<div>\n",
              "<style scoped>\n",
              "    .dataframe tbody tr th:only-of-type {\n",
              "        vertical-align: middle;\n",
              "    }\n",
              "\n",
              "    .dataframe tbody tr th {\n",
              "        vertical-align: top;\n",
              "    }\n",
              "\n",
              "    .dataframe thead th {\n",
              "        text-align: right;\n",
              "    }\n",
              "</style>\n",
              "<table border=\"1\" class=\"dataframe\">\n",
              "  <thead>\n",
              "    <tr style=\"text-align: right;\">\n",
              "      <th></th>\n",
              "      <th>MPG</th>\n",
              "      <th>Cylinders</th>\n",
              "      <th>Displacement</th>\n",
              "      <th>Horsepower</th>\n",
              "      <th>Weight</th>\n",
              "      <th>Acceleration</th>\n",
              "      <th>Model Year</th>\n",
              "    </tr>\n",
              "  </thead>\n",
              "  <tbody>\n",
              "    <tr>\n",
              "      <th>0</th>\n",
              "      <td>18.0</td>\n",
              "      <td>8</td>\n",
              "      <td>307.0</td>\n",
              "      <td>130.0</td>\n",
              "      <td>3504.0</td>\n",
              "      <td>12.0</td>\n",
              "      <td>70</td>\n",
              "    </tr>\n",
              "    <tr>\n",
              "      <th>1</th>\n",
              "      <td>15.0</td>\n",
              "      <td>8</td>\n",
              "      <td>350.0</td>\n",
              "      <td>165.0</td>\n",
              "      <td>3693.0</td>\n",
              "      <td>11.5</td>\n",
              "      <td>70</td>\n",
              "    </tr>\n",
              "    <tr>\n",
              "      <th>2</th>\n",
              "      <td>18.0</td>\n",
              "      <td>8</td>\n",
              "      <td>318.0</td>\n",
              "      <td>150.0</td>\n",
              "      <td>3436.0</td>\n",
              "      <td>11.0</td>\n",
              "      <td>70</td>\n",
              "    </tr>\n",
              "    <tr>\n",
              "      <th>3</th>\n",
              "      <td>16.0</td>\n",
              "      <td>8</td>\n",
              "      <td>304.0</td>\n",
              "      <td>150.0</td>\n",
              "      <td>3433.0</td>\n",
              "      <td>12.0</td>\n",
              "      <td>70</td>\n",
              "    </tr>\n",
              "    <tr>\n",
              "      <th>4</th>\n",
              "      <td>17.0</td>\n",
              "      <td>8</td>\n",
              "      <td>302.0</td>\n",
              "      <td>140.0</td>\n",
              "      <td>3449.0</td>\n",
              "      <td>10.5</td>\n",
              "      <td>70</td>\n",
              "    </tr>\n",
              "    <tr>\n",
              "      <th>...</th>\n",
              "      <td>...</td>\n",
              "      <td>...</td>\n",
              "      <td>...</td>\n",
              "      <td>...</td>\n",
              "      <td>...</td>\n",
              "      <td>...</td>\n",
              "      <td>...</td>\n",
              "    </tr>\n",
              "    <tr>\n",
              "      <th>393</th>\n",
              "      <td>27.0</td>\n",
              "      <td>4</td>\n",
              "      <td>140.0</td>\n",
              "      <td>86.0</td>\n",
              "      <td>2790.0</td>\n",
              "      <td>15.6</td>\n",
              "      <td>82</td>\n",
              "    </tr>\n",
              "    <tr>\n",
              "      <th>394</th>\n",
              "      <td>44.0</td>\n",
              "      <td>4</td>\n",
              "      <td>97.0</td>\n",
              "      <td>52.0</td>\n",
              "      <td>2130.0</td>\n",
              "      <td>24.6</td>\n",
              "      <td>82</td>\n",
              "    </tr>\n",
              "    <tr>\n",
              "      <th>395</th>\n",
              "      <td>32.0</td>\n",
              "      <td>4</td>\n",
              "      <td>135.0</td>\n",
              "      <td>84.0</td>\n",
              "      <td>2295.0</td>\n",
              "      <td>11.6</td>\n",
              "      <td>82</td>\n",
              "    </tr>\n",
              "    <tr>\n",
              "      <th>396</th>\n",
              "      <td>28.0</td>\n",
              "      <td>4</td>\n",
              "      <td>120.0</td>\n",
              "      <td>79.0</td>\n",
              "      <td>2625.0</td>\n",
              "      <td>18.6</td>\n",
              "      <td>82</td>\n",
              "    </tr>\n",
              "    <tr>\n",
              "      <th>397</th>\n",
              "      <td>31.0</td>\n",
              "      <td>4</td>\n",
              "      <td>119.0</td>\n",
              "      <td>82.0</td>\n",
              "      <td>2720.0</td>\n",
              "      <td>19.4</td>\n",
              "      <td>82</td>\n",
              "    </tr>\n",
              "  </tbody>\n",
              "</table>\n",
              "<p>392 rows × 7 columns</p>\n",
              "</div>"
            ],
            "text/plain": [
              "      MPG  Cylinders  Displacement  ...  Weight  Acceleration  Model Year\n",
              "0    18.0          8         307.0  ...  3504.0          12.0          70\n",
              "1    15.0          8         350.0  ...  3693.0          11.5          70\n",
              "2    18.0          8         318.0  ...  3436.0          11.0          70\n",
              "3    16.0          8         304.0  ...  3433.0          12.0          70\n",
              "4    17.0          8         302.0  ...  3449.0          10.5          70\n",
              "..    ...        ...           ...  ...     ...           ...         ...\n",
              "393  27.0          4         140.0  ...  2790.0          15.6          82\n",
              "394  44.0          4          97.0  ...  2130.0          24.6          82\n",
              "395  32.0          4         135.0  ...  2295.0          11.6          82\n",
              "396  28.0          4         120.0  ...  2625.0          18.6          82\n",
              "397  31.0          4         119.0  ...  2720.0          19.4          82\n",
              "\n",
              "[392 rows x 7 columns]"
            ]
          },
          "metadata": {
            "tags": []
          },
          "execution_count": 90
        }
      ]
    },
    {
      "cell_type": "code",
      "metadata": {
        "id": "AXvcUQTW45pV"
      },
      "source": [
        "train_dataset = dataset.sample(frac=0.8,random_state=0)   #트레이닝, 테스트 셋 나누기\n",
        "test_dataset = dataset.drop(train_dataset.index)"
      ],
      "execution_count": 91,
      "outputs": []
    },
    {
      "cell_type": "code",
      "metadata": {
        "colab": {
          "base_uri": "https://localhost:8080/"
        },
        "id": "MpO0RE-y47FV",
        "outputId": "1e0e25ce-1e33-4869-8905-1d25e281155f"
      },
      "source": [
        "len(train_dataset), len(test_dataset)"
      ],
      "execution_count": 92,
      "outputs": [
        {
          "output_type": "execute_result",
          "data": {
            "text/plain": [
              "(314, 78)"
            ]
          },
          "metadata": {
            "tags": []
          },
          "execution_count": 92
        }
      ]
    },
    {
      "cell_type": "code",
      "metadata": {
        "colab": {
          "base_uri": "https://localhost:8080/",
          "height": 235
        },
        "id": "Le-DMqkt487M",
        "outputId": "48d41f8b-80c8-4b11-c060-71ee1e8d55dd"
      },
      "source": [
        "train_stats = train_dataset.describe()  #describe()함수 : 평균값과 표준편차를 구할 수 있음\n",
        "train_stats.pop(\"MPG\")\n",
        "train_stats = train_stats.transpose()\n",
        "train_stats"
      ],
      "execution_count": 93,
      "outputs": [
        {
          "output_type": "execute_result",
          "data": {
            "text/html": [
              "<div>\n",
              "<style scoped>\n",
              "    .dataframe tbody tr th:only-of-type {\n",
              "        vertical-align: middle;\n",
              "    }\n",
              "\n",
              "    .dataframe tbody tr th {\n",
              "        vertical-align: top;\n",
              "    }\n",
              "\n",
              "    .dataframe thead th {\n",
              "        text-align: right;\n",
              "    }\n",
              "</style>\n",
              "<table border=\"1\" class=\"dataframe\">\n",
              "  <thead>\n",
              "    <tr style=\"text-align: right;\">\n",
              "      <th></th>\n",
              "      <th>count</th>\n",
              "      <th>mean</th>\n",
              "      <th>std</th>\n",
              "      <th>min</th>\n",
              "      <th>25%</th>\n",
              "      <th>50%</th>\n",
              "      <th>75%</th>\n",
              "      <th>max</th>\n",
              "    </tr>\n",
              "  </thead>\n",
              "  <tbody>\n",
              "    <tr>\n",
              "      <th>Cylinders</th>\n",
              "      <td>314.0</td>\n",
              "      <td>5.477707</td>\n",
              "      <td>1.699788</td>\n",
              "      <td>3.0</td>\n",
              "      <td>4.00</td>\n",
              "      <td>4.0</td>\n",
              "      <td>8.00</td>\n",
              "      <td>8.0</td>\n",
              "    </tr>\n",
              "    <tr>\n",
              "      <th>Displacement</th>\n",
              "      <td>314.0</td>\n",
              "      <td>195.318471</td>\n",
              "      <td>104.331589</td>\n",
              "      <td>68.0</td>\n",
              "      <td>105.50</td>\n",
              "      <td>151.0</td>\n",
              "      <td>265.75</td>\n",
              "      <td>455.0</td>\n",
              "    </tr>\n",
              "    <tr>\n",
              "      <th>Horsepower</th>\n",
              "      <td>314.0</td>\n",
              "      <td>104.869427</td>\n",
              "      <td>38.096214</td>\n",
              "      <td>46.0</td>\n",
              "      <td>76.25</td>\n",
              "      <td>94.5</td>\n",
              "      <td>128.00</td>\n",
              "      <td>225.0</td>\n",
              "    </tr>\n",
              "    <tr>\n",
              "      <th>Weight</th>\n",
              "      <td>314.0</td>\n",
              "      <td>2990.251592</td>\n",
              "      <td>843.898596</td>\n",
              "      <td>1649.0</td>\n",
              "      <td>2256.50</td>\n",
              "      <td>2822.5</td>\n",
              "      <td>3608.00</td>\n",
              "      <td>5140.0</td>\n",
              "    </tr>\n",
              "    <tr>\n",
              "      <th>Acceleration</th>\n",
              "      <td>314.0</td>\n",
              "      <td>15.559236</td>\n",
              "      <td>2.789230</td>\n",
              "      <td>8.0</td>\n",
              "      <td>13.80</td>\n",
              "      <td>15.5</td>\n",
              "      <td>17.20</td>\n",
              "      <td>24.8</td>\n",
              "    </tr>\n",
              "    <tr>\n",
              "      <th>Model Year</th>\n",
              "      <td>314.0</td>\n",
              "      <td>75.898089</td>\n",
              "      <td>3.675642</td>\n",
              "      <td>70.0</td>\n",
              "      <td>73.00</td>\n",
              "      <td>76.0</td>\n",
              "      <td>79.00</td>\n",
              "      <td>82.0</td>\n",
              "    </tr>\n",
              "  </tbody>\n",
              "</table>\n",
              "</div>"
            ],
            "text/plain": [
              "              count         mean         std  ...     50%      75%     max\n",
              "Cylinders     314.0     5.477707    1.699788  ...     4.0     8.00     8.0\n",
              "Displacement  314.0   195.318471  104.331589  ...   151.0   265.75   455.0\n",
              "Horsepower    314.0   104.869427   38.096214  ...    94.5   128.00   225.0\n",
              "Weight        314.0  2990.251592  843.898596  ...  2822.5  3608.00  5140.0\n",
              "Acceleration  314.0    15.559236    2.789230  ...    15.5    17.20    24.8\n",
              "Model Year    314.0    75.898089    3.675642  ...    76.0    79.00    82.0\n",
              "\n",
              "[6 rows x 8 columns]"
            ]
          },
          "metadata": {
            "tags": []
          },
          "execution_count": 93
        }
      ]
    },
    {
      "cell_type": "code",
      "metadata": {
        "id": "zl_lsLmU4_Yw"
      },
      "source": [
        "train_labels = train_dataset.pop('MPG') #정규화에서 빼기\n",
        "test_labels = test_dataset.pop('MPG')"
      ],
      "execution_count": 94,
      "outputs": []
    },
    {
      "cell_type": "code",
      "metadata": {
        "id": "YgIfEXAu5AwX"
      },
      "source": [
        "def norm(x):         #데이터 정규화\n",
        "  return (x - train_stats['mean']) / train_stats['std']\n",
        "normed_train_data = norm(train_dataset)\n",
        "normed_test_data = norm(test_dataset)"
      ],
      "execution_count": 95,
      "outputs": []
    },
    {
      "cell_type": "code",
      "metadata": {
        "colab": {
          "base_uri": "https://localhost:8080/",
          "height": 204
        },
        "id": "U3acXQzNBvmK",
        "outputId": "4c917293-4687-4c72-df75-2ea1f0cc7511"
      },
      "source": [
        "normed_train_data.head() #정규분포를 따르게 정규화가 됨"
      ],
      "execution_count": 96,
      "outputs": [
        {
          "output_type": "execute_result",
          "data": {
            "text/html": [
              "<div>\n",
              "<style scoped>\n",
              "    .dataframe tbody tr th:only-of-type {\n",
              "        vertical-align: middle;\n",
              "    }\n",
              "\n",
              "    .dataframe tbody tr th {\n",
              "        vertical-align: top;\n",
              "    }\n",
              "\n",
              "    .dataframe thead th {\n",
              "        text-align: right;\n",
              "    }\n",
              "</style>\n",
              "<table border=\"1\" class=\"dataframe\">\n",
              "  <thead>\n",
              "    <tr style=\"text-align: right;\">\n",
              "      <th></th>\n",
              "      <th>Cylinders</th>\n",
              "      <th>Displacement</th>\n",
              "      <th>Horsepower</th>\n",
              "      <th>Weight</th>\n",
              "      <th>Acceleration</th>\n",
              "      <th>Model Year</th>\n",
              "    </tr>\n",
              "  </thead>\n",
              "  <tbody>\n",
              "    <tr>\n",
              "      <th>146</th>\n",
              "      <td>-0.869348</td>\n",
              "      <td>-1.009459</td>\n",
              "      <td>-0.784052</td>\n",
              "      <td>-1.025303</td>\n",
              "      <td>-0.379759</td>\n",
              "      <td>-0.516397</td>\n",
              "    </tr>\n",
              "    <tr>\n",
              "      <th>282</th>\n",
              "      <td>-0.869348</td>\n",
              "      <td>-0.530218</td>\n",
              "      <td>-0.442811</td>\n",
              "      <td>-0.118796</td>\n",
              "      <td>0.624102</td>\n",
              "      <td>0.843910</td>\n",
              "    </tr>\n",
              "    <tr>\n",
              "      <th>69</th>\n",
              "      <td>1.483887</td>\n",
              "      <td>1.482595</td>\n",
              "      <td>1.447140</td>\n",
              "      <td>1.736877</td>\n",
              "      <td>-0.738281</td>\n",
              "      <td>-1.060519</td>\n",
              "    </tr>\n",
              "    <tr>\n",
              "      <th>378</th>\n",
              "      <td>-0.869348</td>\n",
              "      <td>-0.865687</td>\n",
              "      <td>-1.099044</td>\n",
              "      <td>-1.025303</td>\n",
              "      <td>-0.308055</td>\n",
              "      <td>1.660094</td>\n",
              "    </tr>\n",
              "    <tr>\n",
              "      <th>331</th>\n",
              "      <td>-0.869348</td>\n",
              "      <td>-0.942365</td>\n",
              "      <td>-0.994047</td>\n",
              "      <td>-1.001603</td>\n",
              "      <td>0.875068</td>\n",
              "      <td>1.115971</td>\n",
              "    </tr>\n",
              "  </tbody>\n",
              "</table>\n",
              "</div>"
            ],
            "text/plain": [
              "     Cylinders  Displacement  Horsepower    Weight  Acceleration  Model Year\n",
              "146  -0.869348     -1.009459   -0.784052 -1.025303     -0.379759   -0.516397\n",
              "282  -0.869348     -0.530218   -0.442811 -0.118796      0.624102    0.843910\n",
              "69    1.483887      1.482595    1.447140  1.736877     -0.738281   -1.060519\n",
              "378  -0.869348     -0.865687   -1.099044 -1.025303     -0.308055    1.660094\n",
              "331  -0.869348     -0.942365   -0.994047 -1.001603      0.875068    1.115971"
            ]
          },
          "metadata": {
            "tags": []
          },
          "execution_count": 96
        }
      ]
    },
    {
      "cell_type": "code",
      "metadata": {
        "colab": {
          "base_uri": "https://localhost:8080/"
        },
        "id": "2yFDg4whROfI",
        "outputId": "661228ea-e0e9-4faf-a16b-545e2f29d726"
      },
      "source": [
        "train_dataset.shape  #모델 만들기"
      ],
      "execution_count": 97,
      "outputs": [
        {
          "output_type": "execute_result",
          "data": {
            "text/plain": [
              "(314, 6)"
            ]
          },
          "metadata": {
            "tags": []
          },
          "execution_count": 97
        }
      ]
    },
    {
      "cell_type": "code",
      "metadata": {
        "colab": {
          "base_uri": "https://localhost:8080/"
        },
        "id": "ahcffBZaTMYc",
        "outputId": "8b308592-6667-48c1-d4ba-0e54e42609a6"
      },
      "source": [
        "normed_train_data.shape  #(314줄[가변적], 6개 칼럼[중요])"
      ],
      "execution_count": 99,
      "outputs": [
        {
          "output_type": "execute_result",
          "data": {
            "text/plain": [
              "(314, 6)"
            ]
          },
          "metadata": {
            "tags": []
          },
          "execution_count": 99
        }
      ]
    },
    {
      "cell_type": "code",
      "metadata": {
        "id": "EGPMWTE95B_1"
      },
      "source": [
        "inputs = keras.Input(shape=(normed_train_data.shape[1],))   \n",
        "h = layers.Dense(64)(inputs)  #행렬 만들기\n",
        "h = layers.Dense(32)(h)  #행렬 추가\n",
        "outputs = layers.Dense(1)(h)"
      ],
      "execution_count": 107,
      "outputs": []
    },
    {
      "cell_type": "code",
      "metadata": {
        "id": "7QpRZ5wrTW9B"
      },
      "source": [
        "model = keras.Model(inputs=inputs, outputs=outputs)"
      ],
      "execution_count": 108,
      "outputs": []
    },
    {
      "cell_type": "code",
      "metadata": {
        "id": "7xShc-xT5FzM"
      },
      "source": [
        "model.compile(loss='mse',          \n",
        "              optimizer=tf.keras.optimizers.RMSprop(0.001))\n",
        "#y = w*x + b\n",
        "#optimizer = 오차 줄이기 위해 값 변경 정하는 함수"
      ],
      "execution_count": 109,
      "outputs": []
    },
    {
      "cell_type": "code",
      "metadata": {
        "colab": {
          "base_uri": "https://localhost:8080/"
        },
        "id": "htE60cDE5H4T",
        "outputId": "a56d425c-12d0-4aeb-ecf2-042b052ae29a"
      },
      "source": [
        "model.summary()  #모델 시각화(모델 확인)"
      ],
      "execution_count": 110,
      "outputs": [
        {
          "output_type": "stream",
          "text": [
            "Model: \"model_2\"\n",
            "_________________________________________________________________\n",
            "Layer (type)                 Output Shape              Param #   \n",
            "=================================================================\n",
            "input_3 (InputLayer)         [(None, 6)]               0         \n",
            "_________________________________________________________________\n",
            "dense_16 (Dense)             (None, 64)                448       \n",
            "_________________________________________________________________\n",
            "dense_17 (Dense)             (None, 32)                2080      \n",
            "_________________________________________________________________\n",
            "dense_18 (Dense)             (None, 1)                 33        \n",
            "=================================================================\n",
            "Total params: 2,561\n",
            "Trainable params: 2,561\n",
            "Non-trainable params: 0\n",
            "_________________________________________________________________\n"
          ],
          "name": "stdout"
        }
      ]
    },
    {
      "cell_type": "code",
      "metadata": {
        "colab": {
          "base_uri": "https://localhost:8080/",
          "height": 422
        },
        "id": "IrpMZIeaUe0Q",
        "outputId": "da375440-8e0f-4b23-ede8-380db3652142"
      },
      "source": [
        "keras.utils.plot_model(model, \"my_first_model_with_shape_info.png\", show_shapes=True) #레이어의 인풋 아웃풋 표현"
      ],
      "execution_count": 111,
      "outputs": [
        {
          "output_type": "execute_result",
          "data": {
            "image/png": "[encoded data removed]",
            "text/plain": [
              "<IPython.core.display.Image object>"
            ]
          },
          "metadata": {
            "tags": []
          },
          "execution_count": 111
        }
      ]
    },
    {
      "cell_type": "code",
      "metadata": {
        "colab": {
          "base_uri": "https://localhost:8080/",
          "height": 204
        },
        "id": "gPTyuPKkV__j",
        "outputId": "726721ee-ea82-424d-84bc-01c6489159a7"
      },
      "source": [
        "normed_train_data[:5] #특정한 것만 가져오기"
      ],
      "execution_count": 113,
      "outputs": [
        {
          "output_type": "execute_result",
          "data": {
            "text/html": [
              "<div>\n",
              "<style scoped>\n",
              "    .dataframe tbody tr th:only-of-type {\n",
              "        vertical-align: middle;\n",
              "    }\n",
              "\n",
              "    .dataframe tbody tr th {\n",
              "        vertical-align: top;\n",
              "    }\n",
              "\n",
              "    .dataframe thead th {\n",
              "        text-align: right;\n",
              "    }\n",
              "</style>\n",
              "<table border=\"1\" class=\"dataframe\">\n",
              "  <thead>\n",
              "    <tr style=\"text-align: right;\">\n",
              "      <th></th>\n",
              "      <th>Cylinders</th>\n",
              "      <th>Displacement</th>\n",
              "      <th>Horsepower</th>\n",
              "      <th>Weight</th>\n",
              "      <th>Acceleration</th>\n",
              "      <th>Model Year</th>\n",
              "    </tr>\n",
              "  </thead>\n",
              "  <tbody>\n",
              "    <tr>\n",
              "      <th>146</th>\n",
              "      <td>-0.869348</td>\n",
              "      <td>-1.009459</td>\n",
              "      <td>-0.784052</td>\n",
              "      <td>-1.025303</td>\n",
              "      <td>-0.379759</td>\n",
              "      <td>-0.516397</td>\n",
              "    </tr>\n",
              "    <tr>\n",
              "      <th>282</th>\n",
              "      <td>-0.869348</td>\n",
              "      <td>-0.530218</td>\n",
              "      <td>-0.442811</td>\n",
              "      <td>-0.118796</td>\n",
              "      <td>0.624102</td>\n",
              "      <td>0.843910</td>\n",
              "    </tr>\n",
              "    <tr>\n",
              "      <th>69</th>\n",
              "      <td>1.483887</td>\n",
              "      <td>1.482595</td>\n",
              "      <td>1.447140</td>\n",
              "      <td>1.736877</td>\n",
              "      <td>-0.738281</td>\n",
              "      <td>-1.060519</td>\n",
              "    </tr>\n",
              "    <tr>\n",
              "      <th>378</th>\n",
              "      <td>-0.869348</td>\n",
              "      <td>-0.865687</td>\n",
              "      <td>-1.099044</td>\n",
              "      <td>-1.025303</td>\n",
              "      <td>-0.308055</td>\n",
              "      <td>1.660094</td>\n",
              "    </tr>\n",
              "    <tr>\n",
              "      <th>331</th>\n",
              "      <td>-0.869348</td>\n",
              "      <td>-0.942365</td>\n",
              "      <td>-0.994047</td>\n",
              "      <td>-1.001603</td>\n",
              "      <td>0.875068</td>\n",
              "      <td>1.115971</td>\n",
              "    </tr>\n",
              "  </tbody>\n",
              "</table>\n",
              "</div>"
            ],
            "text/plain": [
              "     Cylinders  Displacement  Horsepower    Weight  Acceleration  Model Year\n",
              "146  -0.869348     -1.009459   -0.784052 -1.025303     -0.379759   -0.516397\n",
              "282  -0.869348     -0.530218   -0.442811 -0.118796      0.624102    0.843910\n",
              "69    1.483887      1.482595    1.447140  1.736877     -0.738281   -1.060519\n",
              "378  -0.869348     -0.865687   -1.099044 -1.025303     -0.308055    1.660094\n",
              "331  -0.869348     -0.942365   -0.994047 -1.001603      0.875068    1.115971"
            ]
          },
          "metadata": {
            "tags": []
          },
          "execution_count": 113
        }
      ]
    },
    {
      "cell_type": "code",
      "metadata": {
        "colab": {
          "base_uri": "https://localhost:8080/"
        },
        "id": "yYDhAcIrWNBm",
        "outputId": "5705d4a3-55f2-4b96-ced9-d7205318aa65"
      },
      "source": [
        "normed_train_data[:5].shape"
      ],
      "execution_count": 114,
      "outputs": [
        {
          "output_type": "execute_result",
          "data": {
            "text/plain": [
              "(5, 6)"
            ]
          },
          "metadata": {
            "tags": []
          },
          "execution_count": 114
        }
      ]
    },
    {
      "cell_type": "code",
      "metadata": {
        "colab": {
          "base_uri": "https://localhost:8080/"
        },
        "id": "wQFNDIvY5KFr",
        "outputId": "77292ea9-f29d-4a91-fc99-44c5f299e5f2"
      },
      "source": [
        "example_batch = normed_train_data[:5]\n",
        "example_result = model.predict(example_batch)   #predict함수 = 예측 하기\n",
        "example_result"
      ],
      "execution_count": 115,
      "outputs": [
        {
          "output_type": "stream",
          "text": [
            "WARNING:tensorflow:5 out of the last 9 calls to <function Model.make_predict_function.<locals>.predict_function at 0x7f4495320d40> triggered tf.function retracing. Tracing is expensive and the excessive number of tracings could be due to (1) creating @tf.function repeatedly in a loop, (2) passing tensors with different shapes, (3) passing Python objects instead of tensors. For (1), please define your @tf.function outside of the loop. For (2), @tf.function has experimental_relax_shapes=True option that relaxes argument shapes that can avoid unnecessary retracing. For (3), please refer to https://www.tensorflow.org/guide/function#controlling_retracing and https://www.tensorflow.org/api_docs/python/tf/function for  more details.\n"
          ],
          "name": "stdout"
        },
        {
          "output_type": "execute_result",
          "data": {
            "text/plain": [
              "array([[ 0.04476336],\n",
              "       [-0.04677701],\n",
              "       [-0.26512054],\n",
              "       [ 0.29329953],\n",
              "       [ 0.20421153]], dtype=float32)"
            ]
          },
          "metadata": {
            "tags": []
          },
          "execution_count": 115
        }
      ]
    },
    {
      "cell_type": "code",
      "metadata": {
        "colab": {
          "base_uri": "https://localhost:8080/"
        },
        "id": "Ss7VcFai5Lyt",
        "outputId": "7ea6a454-bfe4-47cb-e041-c3d1eaf823a2"
      },
      "source": [
        "EPOCHS = 200  #학습을 몇번 반복할지 정하기 [무조건 필요]\n",
        "\n",
        "#fit함수 = 학습시키기\n",
        "history = model.fit(      \n",
        "  normed_train_data, train_labels,       #인풋 데이터(x), 아웃풋 데이터(y) [무조건 있어야 됨]\n",
        "  epochs=EPOCHS, validation_split = 0.2)   #validation_split = 과적합을 막기 위한 데이터"
      ],
      "execution_count": 118,
      "outputs": [
        {
          "output_type": "stream",
          "text": [
            "Epoch 1/200\n",
            "8/8 [==============================] - 0s 10ms/step - loss: 12.5382 - val_loss: 11.7668\n",
            "Epoch 2/200\n",
            "8/8 [==============================] - 0s 4ms/step - loss: 12.4612 - val_loss: 11.6817\n",
            "Epoch 3/200\n",
            "8/8 [==============================] - 0s 5ms/step - loss: 12.3981 - val_loss: 11.7591\n",
            "Epoch 4/200\n",
            "8/8 [==============================] - 0s 5ms/step - loss: 12.2475 - val_loss: 13.1789\n",
            "Epoch 5/200\n",
            "8/8 [==============================] - 0s 5ms/step - loss: 12.8472 - val_loss: 11.9046\n",
            "Epoch 6/200\n",
            "8/8 [==============================] - 0s 5ms/step - loss: 12.5078 - val_loss: 11.8585\n",
            "Epoch 7/200\n",
            "8/8 [==============================] - 0s 4ms/step - loss: 12.3506 - val_loss: 11.9133\n",
            "Epoch 8/200\n",
            "8/8 [==============================] - 0s 5ms/step - loss: 12.4489 - val_loss: 12.3114\n",
            "Epoch 9/200\n",
            "8/8 [==============================] - 0s 6ms/step - loss: 12.4542 - val_loss: 11.8550\n",
            "Epoch 10/200\n",
            "8/8 [==============================] - 0s 5ms/step - loss: 12.6857 - val_loss: 13.0127\n",
            "Epoch 11/200\n",
            "8/8 [==============================] - 0s 5ms/step - loss: 12.7110 - val_loss: 12.1527\n",
            "Epoch 12/200\n",
            "8/8 [==============================] - 0s 6ms/step - loss: 12.6585 - val_loss: 12.2031\n",
            "Epoch 13/200\n",
            "8/8 [==============================] - 0s 5ms/step - loss: 12.6901 - val_loss: 11.7720\n",
            "Epoch 14/200\n",
            "8/8 [==============================] - 0s 6ms/step - loss: 12.2423 - val_loss: 12.2055\n",
            "Epoch 15/200\n",
            "8/8 [==============================] - 0s 5ms/step - loss: 12.4146 - val_loss: 12.0728\n",
            "Epoch 16/200\n",
            "8/8 [==============================] - 0s 6ms/step - loss: 12.3462 - val_loss: 11.7390\n",
            "Epoch 17/200\n",
            "8/8 [==============================] - 0s 6ms/step - loss: 12.1924 - val_loss: 12.2011\n",
            "Epoch 18/200\n",
            "8/8 [==============================] - 0s 4ms/step - loss: 12.5646 - val_loss: 12.2893\n",
            "Epoch 19/200\n",
            "8/8 [==============================] - 0s 4ms/step - loss: 12.6228 - val_loss: 11.8540\n",
            "Epoch 20/200\n",
            "8/8 [==============================] - 0s 4ms/step - loss: 12.8415 - val_loss: 12.0674\n",
            "Epoch 21/200\n",
            "8/8 [==============================] - 0s 4ms/step - loss: 12.6435 - val_loss: 12.0679\n",
            "Epoch 22/200\n",
            "8/8 [==============================] - 0s 5ms/step - loss: 12.3907 - val_loss: 11.8308\n",
            "Epoch 23/200\n",
            "8/8 [==============================] - 0s 4ms/step - loss: 12.6667 - val_loss: 12.1585\n",
            "Epoch 24/200\n",
            "8/8 [==============================] - 0s 4ms/step - loss: 12.3394 - val_loss: 12.0206\n",
            "Epoch 25/200\n",
            "8/8 [==============================] - 0s 4ms/step - loss: 12.5516 - val_loss: 12.4510\n",
            "Epoch 26/200\n",
            "8/8 [==============================] - 0s 5ms/step - loss: 12.5257 - val_loss: 12.0042\n",
            "Epoch 27/200\n",
            "8/8 [==============================] - 0s 4ms/step - loss: 12.5144 - val_loss: 11.6920\n",
            "Epoch 28/200\n",
            "8/8 [==============================] - 0s 5ms/step - loss: 12.4687 - val_loss: 12.6448\n",
            "Epoch 29/200\n",
            "8/8 [==============================] - 0s 5ms/step - loss: 12.4700 - val_loss: 11.8881\n",
            "Epoch 30/200\n",
            "8/8 [==============================] - 0s 4ms/step - loss: 12.5597 - val_loss: 12.1211\n",
            "Epoch 31/200\n",
            "8/8 [==============================] - 0s 5ms/step - loss: 12.3311 - val_loss: 12.7823\n",
            "Epoch 32/200\n",
            "8/8 [==============================] - 0s 4ms/step - loss: 12.4913 - val_loss: 11.9667\n",
            "Epoch 33/200\n",
            "8/8 [==============================] - 0s 5ms/step - loss: 12.4958 - val_loss: 11.9789\n",
            "Epoch 34/200\n",
            "8/8 [==============================] - 0s 5ms/step - loss: 12.6114 - val_loss: 12.0314\n",
            "Epoch 35/200\n",
            "8/8 [==============================] - 0s 5ms/step - loss: 12.3820 - val_loss: 12.1769\n",
            "Epoch 36/200\n",
            "8/8 [==============================] - 0s 5ms/step - loss: 12.6093 - val_loss: 12.5685\n",
            "Epoch 37/200\n",
            "8/8 [==============================] - 0s 5ms/step - loss: 12.5900 - val_loss: 12.0799\n",
            "Epoch 38/200\n",
            "8/8 [==============================] - 0s 4ms/step - loss: 12.3521 - val_loss: 11.9661\n",
            "Epoch 39/200\n",
            "8/8 [==============================] - 0s 4ms/step - loss: 12.4315 - val_loss: 13.0511\n",
            "Epoch 40/200\n",
            "8/8 [==============================] - 0s 5ms/step - loss: 12.8001 - val_loss: 12.0474\n",
            "Epoch 41/200\n",
            "8/8 [==============================] - 0s 4ms/step - loss: 12.3751 - val_loss: 12.4023\n",
            "Epoch 42/200\n",
            "8/8 [==============================] - 0s 6ms/step - loss: 12.4246 - val_loss: 11.6950\n",
            "Epoch 43/200\n",
            "8/8 [==============================] - 0s 4ms/step - loss: 12.6214 - val_loss: 12.5662\n",
            "Epoch 44/200\n",
            "8/8 [==============================] - 0s 5ms/step - loss: 13.0420 - val_loss: 11.7418\n",
            "Epoch 45/200\n",
            "8/8 [==============================] - 0s 6ms/step - loss: 12.5256 - val_loss: 11.9076\n",
            "Epoch 46/200\n",
            "8/8 [==============================] - 0s 4ms/step - loss: 12.3194 - val_loss: 12.1979\n",
            "Epoch 47/200\n",
            "8/8 [==============================] - 0s 7ms/step - loss: 12.9155 - val_loss: 12.5409\n",
            "Epoch 48/200\n",
            "8/8 [==============================] - 0s 5ms/step - loss: 12.6461 - val_loss: 11.8316\n",
            "Epoch 49/200\n",
            "8/8 [==============================] - 0s 4ms/step - loss: 12.7021 - val_loss: 12.1030\n",
            "Epoch 50/200\n",
            "8/8 [==============================] - 0s 5ms/step - loss: 12.5293 - val_loss: 11.8576\n",
            "Epoch 51/200\n",
            "8/8 [==============================] - 0s 4ms/step - loss: 12.3659 - val_loss: 12.6233\n",
            "Epoch 52/200\n",
            "8/8 [==============================] - 0s 5ms/step - loss: 12.3887 - val_loss: 11.6893\n",
            "Epoch 53/200\n",
            "8/8 [==============================] - 0s 5ms/step - loss: 12.7168 - val_loss: 11.9486\n",
            "Epoch 54/200\n",
            "8/8 [==============================] - 0s 4ms/step - loss: 12.5451 - val_loss: 11.8788\n",
            "Epoch 55/200\n",
            "8/8 [==============================] - 0s 4ms/step - loss: 12.7139 - val_loss: 12.0868\n",
            "Epoch 56/200\n",
            "8/8 [==============================] - 0s 5ms/step - loss: 12.2768 - val_loss: 11.8647\n",
            "Epoch 57/200\n",
            "8/8 [==============================] - 0s 4ms/step - loss: 12.8875 - val_loss: 11.9817\n",
            "Epoch 58/200\n",
            "8/8 [==============================] - 0s 6ms/step - loss: 12.6195 - val_loss: 12.6922\n",
            "Epoch 59/200\n",
            "8/8 [==============================] - 0s 5ms/step - loss: 12.5193 - val_loss: 11.7991\n",
            "Epoch 60/200\n",
            "8/8 [==============================] - 0s 7ms/step - loss: 12.6734 - val_loss: 12.4036\n",
            "Epoch 61/200\n",
            "8/8 [==============================] - 0s 4ms/step - loss: 12.5709 - val_loss: 12.7812\n",
            "Epoch 62/200\n",
            "8/8 [==============================] - 0s 5ms/step - loss: 12.1562 - val_loss: 12.0229\n",
            "Epoch 63/200\n",
            "8/8 [==============================] - 0s 5ms/step - loss: 12.6495 - val_loss: 12.1732\n",
            "Epoch 64/200\n",
            "8/8 [==============================] - 0s 5ms/step - loss: 12.4346 - val_loss: 12.0066\n",
            "Epoch 65/200\n",
            "8/8 [==============================] - 0s 5ms/step - loss: 12.6967 - val_loss: 11.8353\n",
            "Epoch 66/200\n",
            "8/8 [==============================] - 0s 4ms/step - loss: 12.4310 - val_loss: 11.9737\n",
            "Epoch 67/200\n",
            "8/8 [==============================] - 0s 4ms/step - loss: 12.3955 - val_loss: 12.0613\n",
            "Epoch 68/200\n",
            "8/8 [==============================] - 0s 5ms/step - loss: 12.6285 - val_loss: 11.9971\n",
            "Epoch 69/200\n",
            "8/8 [==============================] - 0s 4ms/step - loss: 12.3647 - val_loss: 12.4158\n",
            "Epoch 70/200\n",
            "8/8 [==============================] - 0s 4ms/step - loss: 12.6962 - val_loss: 11.8008\n",
            "Epoch 71/200\n",
            "8/8 [==============================] - 0s 4ms/step - loss: 12.6980 - val_loss: 11.7804\n",
            "Epoch 72/200\n",
            "8/8 [==============================] - 0s 5ms/step - loss: 12.4228 - val_loss: 12.1551\n",
            "Epoch 73/200\n",
            "8/8 [==============================] - 0s 6ms/step - loss: 12.3781 - val_loss: 11.8227\n",
            "Epoch 74/200\n",
            "8/8 [==============================] - 0s 4ms/step - loss: 12.2641 - val_loss: 12.8404\n",
            "Epoch 75/200\n",
            "8/8 [==============================] - 0s 6ms/step - loss: 12.5323 - val_loss: 12.1219\n",
            "Epoch 76/200\n",
            "8/8 [==============================] - 0s 4ms/step - loss: 12.5684 - val_loss: 12.4691\n",
            "Epoch 77/200\n",
            "8/8 [==============================] - 0s 4ms/step - loss: 12.3314 - val_loss: 12.2957\n",
            "Epoch 78/200\n",
            "8/8 [==============================] - 0s 4ms/step - loss: 12.6086 - val_loss: 12.3009\n",
            "Epoch 79/200\n",
            "8/8 [==============================] - 0s 5ms/step - loss: 12.4586 - val_loss: 11.7696\n",
            "Epoch 80/200\n",
            "8/8 [==============================] - 0s 4ms/step - loss: 12.6278 - val_loss: 11.6355\n",
            "Epoch 81/200\n",
            "8/8 [==============================] - 0s 4ms/step - loss: 12.4200 - val_loss: 12.3566\n",
            "Epoch 82/200\n",
            "8/8 [==============================] - 0s 4ms/step - loss: 12.8350 - val_loss: 12.2182\n",
            "Epoch 83/200\n",
            "8/8 [==============================] - 0s 5ms/step - loss: 12.4143 - val_loss: 12.6292\n",
            "Epoch 84/200\n",
            "8/8 [==============================] - 0s 4ms/step - loss: 12.5524 - val_loss: 11.9720\n",
            "Epoch 85/200\n",
            "8/8 [==============================] - 0s 5ms/step - loss: 12.4013 - val_loss: 12.7960\n",
            "Epoch 86/200\n",
            "8/8 [==============================] - 0s 4ms/step - loss: 12.6470 - val_loss: 11.6688\n",
            "Epoch 87/200\n",
            "8/8 [==============================] - 0s 4ms/step - loss: 12.3659 - val_loss: 12.8665\n",
            "Epoch 88/200\n",
            "8/8 [==============================] - 0s 5ms/step - loss: 12.5713 - val_loss: 12.4833\n",
            "Epoch 89/200\n",
            "8/8 [==============================] - 0s 5ms/step - loss: 12.5464 - val_loss: 12.3404\n",
            "Epoch 90/200\n",
            "8/8 [==============================] - 0s 5ms/step - loss: 12.5843 - val_loss: 11.7439\n",
            "Epoch 91/200\n",
            "8/8 [==============================] - 0s 4ms/step - loss: 12.5955 - val_loss: 13.2219\n",
            "Epoch 92/200\n",
            "8/8 [==============================] - 0s 5ms/step - loss: 12.6050 - val_loss: 12.1594\n",
            "Epoch 93/200\n",
            "8/8 [==============================] - 0s 5ms/step - loss: 12.7273 - val_loss: 11.9773\n",
            "Epoch 94/200\n",
            "8/8 [==============================] - 0s 4ms/step - loss: 12.2295 - val_loss: 12.5461\n",
            "Epoch 95/200\n",
            "8/8 [==============================] - 0s 4ms/step - loss: 12.5292 - val_loss: 12.6960\n",
            "Epoch 96/200\n",
            "8/8 [==============================] - 0s 5ms/step - loss: 12.6518 - val_loss: 11.7130\n",
            "Epoch 97/200\n",
            "8/8 [==============================] - 0s 4ms/step - loss: 12.6030 - val_loss: 12.1194\n",
            "Epoch 98/200\n",
            "8/8 [==============================] - 0s 5ms/step - loss: 12.4902 - val_loss: 12.1089\n",
            "Epoch 99/200\n",
            "8/8 [==============================] - 0s 4ms/step - loss: 12.4127 - val_loss: 12.4418\n",
            "Epoch 100/200\n",
            "8/8 [==============================] - 0s 5ms/step - loss: 12.6178 - val_loss: 11.7297\n",
            "Epoch 101/200\n",
            "8/8 [==============================] - 0s 5ms/step - loss: 12.5412 - val_loss: 11.9541\n",
            "Epoch 102/200\n",
            "8/8 [==============================] - 0s 4ms/step - loss: 12.2258 - val_loss: 11.7612\n",
            "Epoch 103/200\n",
            "8/8 [==============================] - 0s 4ms/step - loss: 12.4588 - val_loss: 11.7859\n",
            "Epoch 104/200\n",
            "8/8 [==============================] - 0s 4ms/step - loss: 12.4401 - val_loss: 12.5960\n",
            "Epoch 105/200\n",
            "8/8 [==============================] - 0s 5ms/step - loss: 12.5996 - val_loss: 11.7118\n",
            "Epoch 106/200\n",
            "8/8 [==============================] - 0s 5ms/step - loss: 12.6954 - val_loss: 12.3067\n",
            "Epoch 107/200\n",
            "8/8 [==============================] - 0s 4ms/step - loss: 12.4421 - val_loss: 11.8919\n",
            "Epoch 108/200\n",
            "8/8 [==============================] - 0s 5ms/step - loss: 12.5269 - val_loss: 12.1466\n",
            "Epoch 109/200\n",
            "8/8 [==============================] - 0s 7ms/step - loss: 12.7398 - val_loss: 11.7980\n",
            "Epoch 110/200\n",
            "8/8 [==============================] - 0s 6ms/step - loss: 12.2300 - val_loss: 11.8247\n",
            "Epoch 111/200\n",
            "8/8 [==============================] - 0s 5ms/step - loss: 12.5846 - val_loss: 12.3382\n",
            "Epoch 112/200\n",
            "8/8 [==============================] - 0s 5ms/step - loss: 12.5591 - val_loss: 12.2767\n",
            "Epoch 113/200\n",
            "8/8 [==============================] - 0s 5ms/step - loss: 12.5549 - val_loss: 11.9501\n",
            "Epoch 114/200\n",
            "8/8 [==============================] - 0s 7ms/step - loss: 12.5218 - val_loss: 12.8260\n",
            "Epoch 115/200\n",
            "8/8 [==============================] - 0s 4ms/step - loss: 12.8374 - val_loss: 11.9809\n",
            "Epoch 116/200\n",
            "8/8 [==============================] - 0s 5ms/step - loss: 12.3364 - val_loss: 12.1491\n",
            "Epoch 117/200\n",
            "8/8 [==============================] - 0s 5ms/step - loss: 12.3552 - val_loss: 11.9590\n",
            "Epoch 118/200\n",
            "8/8 [==============================] - 0s 5ms/step - loss: 12.5010 - val_loss: 11.7077\n",
            "Epoch 119/200\n",
            "8/8 [==============================] - 0s 5ms/step - loss: 12.6161 - val_loss: 11.8196\n",
            "Epoch 120/200\n",
            "8/8 [==============================] - 0s 5ms/step - loss: 12.6764 - val_loss: 12.0704\n",
            "Epoch 121/200\n",
            "8/8 [==============================] - 0s 6ms/step - loss: 12.6075 - val_loss: 12.1519\n",
            "Epoch 122/200\n",
            "8/8 [==============================] - 0s 5ms/step - loss: 12.3362 - val_loss: 11.9420\n",
            "Epoch 123/200\n",
            "8/8 [==============================] - 0s 5ms/step - loss: 12.6019 - val_loss: 11.8652\n",
            "Epoch 124/200\n",
            "8/8 [==============================] - 0s 4ms/step - loss: 12.6006 - val_loss: 11.8376\n",
            "Epoch 125/200\n",
            "8/8 [==============================] - 0s 5ms/step - loss: 12.3407 - val_loss: 11.8318\n",
            "Epoch 126/200\n",
            "8/8 [==============================] - 0s 5ms/step - loss: 12.9871 - val_loss: 11.6498\n",
            "Epoch 127/200\n",
            "8/8 [==============================] - 0s 5ms/step - loss: 12.6769 - val_loss: 11.8735\n",
            "Epoch 128/200\n",
            "8/8 [==============================] - 0s 5ms/step - loss: 12.3548 - val_loss: 12.6276\n",
            "Epoch 129/200\n",
            "8/8 [==============================] - 0s 5ms/step - loss: 12.7564 - val_loss: 12.1709\n",
            "Epoch 130/200\n",
            "8/8 [==============================] - 0s 5ms/step - loss: 12.6467 - val_loss: 12.4050\n",
            "Epoch 131/200\n",
            "8/8 [==============================] - 0s 5ms/step - loss: 12.6416 - val_loss: 11.9298\n",
            "Epoch 132/200\n",
            "8/8 [==============================] - 0s 5ms/step - loss: 12.5708 - val_loss: 12.7273\n",
            "Epoch 133/200\n",
            "8/8 [==============================] - 0s 5ms/step - loss: 12.3082 - val_loss: 12.4262\n",
            "Epoch 134/200\n",
            "8/8 [==============================] - 0s 7ms/step - loss: 12.5109 - val_loss: 12.2833\n",
            "Epoch 135/200\n",
            "8/8 [==============================] - 0s 5ms/step - loss: 12.4480 - val_loss: 12.2436\n",
            "Epoch 136/200\n",
            "8/8 [==============================] - 0s 5ms/step - loss: 12.7399 - val_loss: 11.8568\n",
            "Epoch 137/200\n",
            "8/8 [==============================] - 0s 7ms/step - loss: 12.6815 - val_loss: 11.8820\n",
            "Epoch 138/200\n",
            "8/8 [==============================] - 0s 5ms/step - loss: 12.1143 - val_loss: 13.2636\n",
            "Epoch 139/200\n",
            "8/8 [==============================] - 0s 5ms/step - loss: 12.6788 - val_loss: 11.7228\n",
            "Epoch 140/200\n",
            "8/8 [==============================] - 0s 5ms/step - loss: 12.3502 - val_loss: 12.0963\n",
            "Epoch 141/200\n",
            "8/8 [==============================] - 0s 5ms/step - loss: 12.6959 - val_loss: 12.3963\n",
            "Epoch 142/200\n",
            "8/8 [==============================] - 0s 4ms/step - loss: 12.6432 - val_loss: 12.7139\n",
            "Epoch 143/200\n",
            "8/8 [==============================] - 0s 4ms/step - loss: 12.3149 - val_loss: 11.8413\n",
            "Epoch 144/200\n",
            "8/8 [==============================] - 0s 5ms/step - loss: 12.3830 - val_loss: 13.0366\n",
            "Epoch 145/200\n",
            "8/8 [==============================] - 0s 5ms/step - loss: 12.3760 - val_loss: 11.6352\n",
            "Epoch 146/200\n",
            "8/8 [==============================] - 0s 5ms/step - loss: 12.8354 - val_loss: 11.7815\n",
            "Epoch 147/200\n",
            "8/8 [==============================] - 0s 5ms/step - loss: 12.6561 - val_loss: 12.5071\n",
            "Epoch 148/200\n",
            "8/8 [==============================] - 0s 5ms/step - loss: 12.5256 - val_loss: 11.8008\n",
            "Epoch 149/200\n",
            "8/8 [==============================] - 0s 5ms/step - loss: 12.4489 - val_loss: 11.9582\n",
            "Epoch 150/200\n",
            "8/8 [==============================] - 0s 5ms/step - loss: 12.4542 - val_loss: 12.8885\n",
            "Epoch 151/200\n",
            "8/8 [==============================] - 0s 5ms/step - loss: 12.3421 - val_loss: 11.7974\n",
            "Epoch 152/200\n",
            "8/8 [==============================] - 0s 5ms/step - loss: 12.7943 - val_loss: 11.8951\n",
            "Epoch 153/200\n",
            "8/8 [==============================] - 0s 6ms/step - loss: 12.3101 - val_loss: 12.5079\n",
            "Epoch 154/200\n",
            "8/8 [==============================] - 0s 5ms/step - loss: 12.3951 - val_loss: 12.2656\n",
            "Epoch 155/200\n",
            "8/8 [==============================] - 0s 5ms/step - loss: 12.8164 - val_loss: 11.7629\n",
            "Epoch 156/200\n",
            "8/8 [==============================] - 0s 5ms/step - loss: 12.3079 - val_loss: 11.9151\n",
            "Epoch 157/200\n",
            "8/8 [==============================] - 0s 4ms/step - loss: 12.2890 - val_loss: 12.6589\n",
            "Epoch 158/200\n",
            "8/8 [==============================] - 0s 5ms/step - loss: 12.7435 - val_loss: 12.4378\n",
            "Epoch 159/200\n",
            "8/8 [==============================] - 0s 5ms/step - loss: 12.6755 - val_loss: 12.0438\n",
            "Epoch 160/200\n",
            "8/8 [==============================] - 0s 5ms/step - loss: 12.2268 - val_loss: 12.4785\n",
            "Epoch 161/200\n",
            "8/8 [==============================] - 0s 6ms/step - loss: 12.9388 - val_loss: 13.3504\n",
            "Epoch 162/200\n",
            "8/8 [==============================] - 0s 5ms/step - loss: 12.6871 - val_loss: 11.9268\n",
            "Epoch 163/200\n",
            "8/8 [==============================] - 0s 5ms/step - loss: 12.3399 - val_loss: 11.7925\n",
            "Epoch 164/200\n",
            "8/8 [==============================] - 0s 4ms/step - loss: 12.3360 - val_loss: 12.6390\n",
            "Epoch 165/200\n",
            "8/8 [==============================] - 0s 4ms/step - loss: 12.4934 - val_loss: 12.9676\n",
            "Epoch 166/200\n",
            "8/8 [==============================] - 0s 5ms/step - loss: 12.7320 - val_loss: 12.2631\n",
            "Epoch 167/200\n",
            "8/8 [==============================] - 0s 4ms/step - loss: 12.6548 - val_loss: 11.8196\n",
            "Epoch 168/200\n",
            "8/8 [==============================] - 0s 5ms/step - loss: 12.6779 - val_loss: 11.9184\n",
            "Epoch 169/200\n",
            "8/8 [==============================] - 0s 6ms/step - loss: 12.4669 - val_loss: 12.2678\n",
            "Epoch 170/200\n",
            "8/8 [==============================] - 0s 5ms/step - loss: 12.4618 - val_loss: 11.8827\n",
            "Epoch 171/200\n",
            "8/8 [==============================] - 0s 5ms/step - loss: 12.3347 - val_loss: 12.6597\n",
            "Epoch 172/200\n",
            "8/8 [==============================] - 0s 5ms/step - loss: 12.6080 - val_loss: 12.0099\n",
            "Epoch 173/200\n",
            "8/8 [==============================] - 0s 5ms/step - loss: 12.2240 - val_loss: 11.9070\n",
            "Epoch 174/200\n",
            "8/8 [==============================] - 0s 7ms/step - loss: 12.9611 - val_loss: 12.5288\n",
            "Epoch 175/200\n",
            "8/8 [==============================] - 0s 6ms/step - loss: 12.5804 - val_loss: 11.9218\n",
            "Epoch 176/200\n",
            "8/8 [==============================] - 0s 4ms/step - loss: 12.6593 - val_loss: 12.1797\n",
            "Epoch 177/200\n",
            "8/8 [==============================] - 0s 5ms/step - loss: 12.2942 - val_loss: 12.0110\n",
            "Epoch 178/200\n",
            "8/8 [==============================] - 0s 4ms/step - loss: 12.6365 - val_loss: 11.9453\n",
            "Epoch 179/200\n",
            "8/8 [==============================] - 0s 5ms/step - loss: 12.6809 - val_loss: 12.0337\n",
            "Epoch 180/200\n",
            "8/8 [==============================] - 0s 5ms/step - loss: 12.8938 - val_loss: 12.0623\n",
            "Epoch 181/200\n",
            "8/8 [==============================] - 0s 6ms/step - loss: 12.3321 - val_loss: 12.4973\n",
            "Epoch 182/200\n",
            "8/8 [==============================] - 0s 5ms/step - loss: 13.0690 - val_loss: 12.4795\n",
            "Epoch 183/200\n",
            "8/8 [==============================] - 0s 5ms/step - loss: 12.5895 - val_loss: 12.3925\n",
            "Epoch 184/200\n",
            "8/8 [==============================] - 0s 6ms/step - loss: 12.5973 - val_loss: 12.0759\n",
            "Epoch 185/200\n",
            "8/8 [==============================] - 0s 5ms/step - loss: 12.4170 - val_loss: 11.7906\n",
            "Epoch 186/200\n",
            "8/8 [==============================] - 0s 6ms/step - loss: 12.4554 - val_loss: 12.4195\n",
            "Epoch 187/200\n",
            "8/8 [==============================] - 0s 6ms/step - loss: 12.3392 - val_loss: 12.1330\n",
            "Epoch 188/200\n",
            "8/8 [==============================] - 0s 5ms/step - loss: 12.5691 - val_loss: 12.1177\n",
            "Epoch 189/200\n",
            "8/8 [==============================] - 0s 5ms/step - loss: 13.0462 - val_loss: 11.8245\n",
            "Epoch 190/200\n",
            "8/8 [==============================] - 0s 6ms/step - loss: 12.5024 - val_loss: 11.8470\n",
            "Epoch 191/200\n",
            "8/8 [==============================] - 0s 5ms/step - loss: 12.4005 - val_loss: 11.9922\n",
            "Epoch 192/200\n",
            "8/8 [==============================] - 0s 5ms/step - loss: 12.8827 - val_loss: 12.2358\n",
            "Epoch 193/200\n",
            "8/8 [==============================] - 0s 5ms/step - loss: 12.5389 - val_loss: 11.8367\n",
            "Epoch 194/200\n",
            "8/8 [==============================] - 0s 5ms/step - loss: 12.2339 - val_loss: 11.9385\n",
            "Epoch 195/200\n",
            "8/8 [==============================] - 0s 6ms/step - loss: 12.3839 - val_loss: 11.9885\n",
            "Epoch 196/200\n",
            "8/8 [==============================] - 0s 5ms/step - loss: 12.8712 - val_loss: 12.7140\n",
            "Epoch 197/200\n",
            "8/8 [==============================] - 0s 6ms/step - loss: 12.4704 - val_loss: 11.7900\n",
            "Epoch 198/200\n",
            "8/8 [==============================] - 0s 6ms/step - loss: 12.5472 - val_loss: 11.9031\n",
            "Epoch 199/200\n",
            "8/8 [==============================] - 0s 5ms/step - loss: 12.4933 - val_loss: 11.9471\n",
            "Epoch 200/200\n",
            "8/8 [==============================] - 0s 5ms/step - loss: 12.3727 - val_loss: 12.5371\n"
          ],
          "name": "stdout"
        }
      ]
    },
    {
      "cell_type": "code",
      "metadata": {
        "colab": {
          "base_uri": "https://localhost:8080/"
        },
        "id": "jbVWlqHyaMom",
        "outputId": "cf528cba-603d-4a16-c155-b8b1175ab776"
      },
      "source": [
        "# patience 매개변수는 성능 향상을 체크할 에포크 횟수입니다\n",
        "early_stop = keras.callbacks.EarlyStopping(monitor='val_loss', patience=10) #val_loss 10번 연속 줄어들지 않으면 학습 멈춤\n",
        "\n",
        "model.fit(normed_train_data, train_labels, epochs=EPOCHS,\n",
        "                    validation_split = 0.2, callbacks=[early_stop])"
      ],
      "execution_count": 122,
      "outputs": [
        {
          "output_type": "stream",
          "text": [
            "Epoch 1/200\n",
            "8/8 [==============================] - 0s 10ms/step - loss: 12.5035 - val_loss: 11.8748\n",
            "Epoch 2/200\n",
            "8/8 [==============================] - 0s 4ms/step - loss: 12.6852 - val_loss: 12.0934\n",
            "Epoch 3/200\n",
            "8/8 [==============================] - 0s 5ms/step - loss: 12.5789 - val_loss: 11.8485\n",
            "Epoch 4/200\n",
            "8/8 [==============================] - 0s 5ms/step - loss: 12.3195 - val_loss: 11.9123\n",
            "Epoch 5/200\n",
            "8/8 [==============================] - 0s 4ms/step - loss: 12.3423 - val_loss: 13.0302\n",
            "Epoch 6/200\n",
            "8/8 [==============================] - 0s 4ms/step - loss: 12.6818 - val_loss: 12.0689\n",
            "Epoch 7/200\n",
            "8/8 [==============================] - 0s 4ms/step - loss: 12.4921 - val_loss: 12.0948\n",
            "Epoch 8/200\n",
            "8/8 [==============================] - 0s 5ms/step - loss: 12.4310 - val_loss: 12.1295\n",
            "Epoch 9/200\n",
            "8/8 [==============================] - 0s 5ms/step - loss: 12.5160 - val_loss: 11.7255\n",
            "Epoch 10/200\n",
            "8/8 [==============================] - 0s 4ms/step - loss: 12.4333 - val_loss: 12.1409\n",
            "Epoch 11/200\n",
            "8/8 [==============================] - 0s 4ms/step - loss: 12.4688 - val_loss: 12.0441\n",
            "Epoch 12/200\n",
            "8/8 [==============================] - 0s 5ms/step - loss: 12.7643 - val_loss: 12.1448\n",
            "Epoch 13/200\n",
            "8/8 [==============================] - 0s 4ms/step - loss: 12.4712 - val_loss: 12.0610\n",
            "Epoch 14/200\n",
            "8/8 [==============================] - 0s 4ms/step - loss: 12.5643 - val_loss: 12.1169\n",
            "Epoch 15/200\n",
            "8/8 [==============================] - 0s 5ms/step - loss: 12.5349 - val_loss: 12.2088\n",
            "Epoch 16/200\n",
            "8/8 [==============================] - 0s 5ms/step - loss: 12.5172 - val_loss: 12.0700\n",
            "Epoch 17/200\n",
            "8/8 [==============================] - 0s 6ms/step - loss: 12.4299 - val_loss: 12.1165\n",
            "Epoch 18/200\n",
            "8/8 [==============================] - 0s 5ms/step - loss: 12.7636 - val_loss: 11.8903\n",
            "Epoch 19/200\n",
            "8/8 [==============================] - 0s 5ms/step - loss: 12.5540 - val_loss: 12.4109\n"
          ],
          "name": "stdout"
        },
        {
          "output_type": "execute_result",
          "data": {
            "text/plain": [
              "<tensorflow.python.keras.callbacks.History at 0x7f4493ef4b50>"
            ]
          },
          "metadata": {
            "tags": []
          },
          "execution_count": 122
        }
      ]
    },
    {
      "cell_type": "code",
      "metadata": {
        "colab": {
          "base_uri": "https://localhost:8080/"
        },
        "id": "ic3DYL3waveW",
        "outputId": "d3fbfed5-820e-4768-d71c-06da1a840d52"
      },
      "source": [
        "loss = model.evaluate(normed_test_data, test_labels, verbose=2) #evaluate함수 = 평가(오차 구하기)\n",
        "\n",
        "print(\"테스트 세트의 평균 절대 오차: {:5.2f} MPG\".format(mae))"
      ],
      "execution_count": 125,
      "outputs": [
        {
          "output_type": "stream",
          "text": [
            "3/3 - 0s - loss: 10.8479\n",
            "테스트 세트의 평균 절대 오차:  1.85 MPG\n"
          ],
          "name": "stdout"
        }
      ]
    },
    {
      "cell_type": "code",
      "metadata": {
        "colab": {
          "base_uri": "https://localhost:8080/",
          "height": 279
        },
        "id": "RWvPMxZQ5iLN",
        "outputId": "b98bd38c-727e-4aa9-a8c9-41c033451b04"
      },
      "source": [
        "test_predictions = model.predict(normed_test_data).flatten() #예측\n",
        "\n",
        "plt.scatter(test_labels, test_predictions) #그래프로 그리기 \n",
        "plt.xlabel('True Values [MPG]')\n",
        "plt.ylabel('Predictions [MPG]')\n",
        "plt.axis('equal')\n",
        "plt.axis('square')\n",
        "plt.xlim([0,plt.xlim()[1]])\n",
        "plt.ylim([0,plt.ylim()[1]])\n",
        "_ = plt.plot([-100, 100], [-100, 100])"
      ],
      "execution_count": 126,
      "outputs": [
        {
          "output_type": "display_data",
          "data": {
            "image/png": "[encoded data removed]",
            "text/plain": [
              "<Figure size 432x288 with 1 Axes>"
            ]
          },
          "metadata": {
            "tags": [],
            "needs_background": "light"
          }
        }
      ]
    },
    {
      "cell_type": "code",
      "metadata": {
        "colab": {
          "base_uri": "https://localhost:8080/",
          "height": 279
        },
        "id": "skVNU6Wt5j4z",
        "outputId": "009c5574-3d7c-4b84-8639-a057707576d3"
      },
      "source": [
        "error = test_predictions - test_labels #오차분포를 시각적으로 표현\n",
        "plt.hist(error, bins = 25)\n",
        "plt.xlabel(\"Prediction Error [MPG]\")\n",
        "_ = plt.ylabel(\"Count\")"
      ],
      "execution_count": 127,
      "outputs": [
        {
          "output_type": "display_data",
          "data": {
            "image/png": "[encoded data removed]",
            "text/plain": [
              "<Figure size 432x288 with 1 Axes>"
            ]
          },
          "metadata": {
            "tags": [],
            "needs_background": "light"
          }
        }
      ]
    },
    {
      "cell_type": "code",
      "metadata": {
        "id": "gimSTlvG5la2"
      },
      "source": [
        ""
      ],
      "execution_count": null,
      "outputs": []
    }
  ]
}